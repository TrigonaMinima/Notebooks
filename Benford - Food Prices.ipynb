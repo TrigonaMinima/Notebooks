{
 "cells": [
  {
   "cell_type": "markdown",
   "metadata": {},
   "source": [
    "# Benford's Analysis - Global Food Prices\n",
    "\n",
    "This notebook was made to supplement one of my blogpost - [link](). Although, you'll be able to follow it along without reading the blogpost. You just need to know what Benford's law says. In this notebook, we'll see how to do a Benford's analysis and by doing so, we'll see if our dataset (historical temperatures of India) will follow the Benford's law.\n",
    "\n",
    "\n",
    "## Index\n",
    "\n",
    "1. [A basic exploration first](#exploration)\n",
    "2. [Benford's Analysis](#benford)\n",
    "\n",
    "\n",
    "## Dataset\n",
    "\n",
    "My source of data was the mailing list I follow - [Data is Plural by Jeremy Singer-Vine](https://tinyletter.com/data-is-plural)\n",
    "\n",
    "The UN World Food Programme’s [vulnerability analysis group][1] collects and publishes [food price data for more than 1,000 towns and cities in more than 70 countries][2]. The dataset, which goes back more than a decade, covers basic staples, such as wheat, rice, milk, oil, and more. It’s updated monthly and feeds into (among other things) the [UNWFP’s price-spike indicators][3].\n",
    "\n",
    "[1]: http://vam.wfp.org/\n",
    "[2]: https://data.humdata.org/dataset/wfp-food-prices\n",
    "[3]: http://foodprices.vam.wfp.org/ALPS-at-a-glance.aspx\n",
    "\n"
   ]
  },
  {
   "cell_type": "code",
   "execution_count": 2,
   "metadata": {
    "collapsed": true
   },
   "outputs": [],
   "source": [
    "import pandas as pd\n",
    "import matplotlib.pyplot as plt\n",
    "\n",
    "%matplotlib inline\n",
    "pd.set_option('display.float_format', lambda x: '%.3f' % x)"
   ]
  },
  {
   "cell_type": "code",
   "execution_count": 4,
   "metadata": {
    "collapsed": true
   },
   "outputs": [],
   "source": [
    "data_file = \"Data/Food Prices/WFPVAM_FoodPrices_24-7-2017.csv\"\n"
   ]
  },
  {
   "cell_type": "code",
   "execution_count": 5,
   "metadata": {
    "scrolled": true
   },
   "outputs": [
    {
     "data": {
      "text/html": [
       "<div>\n",
       "<style>\n",
       "    .dataframe thead tr:only-child th {\n",
       "        text-align: right;\n",
       "    }\n",
       "\n",
       "    .dataframe thead th {\n",
       "        text-align: left;\n",
       "    }\n",
       "\n",
       "    .dataframe tbody tr th {\n",
       "        vertical-align: top;\n",
       "    }\n",
       "</style>\n",
       "<table border=\"1\" class=\"dataframe\">\n",
       "  <thead>\n",
       "    <tr style=\"text-align: right;\">\n",
       "      <th></th>\n",
       "      <th>adm0_id</th>\n",
       "      <th>adm0_name</th>\n",
       "      <th>adm1_id</th>\n",
       "      <th>adm1_name</th>\n",
       "      <th>mkt_id</th>\n",
       "      <th>mkt_name</th>\n",
       "      <th>cm_id</th>\n",
       "      <th>cm_name</th>\n",
       "      <th>cur_id</th>\n",
       "      <th>cur_name</th>\n",
       "      <th>pt_id</th>\n",
       "      <th>pt_name</th>\n",
       "      <th>um_id</th>\n",
       "      <th>um_name</th>\n",
       "      <th>mp_month</th>\n",
       "      <th>mp_year</th>\n",
       "      <th>mp_price</th>\n",
       "      <th>mp_commoditysource</th>\n",
       "    </tr>\n",
       "  </thead>\n",
       "  <tbody>\n",
       "    <tr>\n",
       "      <th>0</th>\n",
       "      <td>1</td>\n",
       "      <td>Afghanistan</td>\n",
       "      <td>272</td>\n",
       "      <td>Badakhshan</td>\n",
       "      <td>266</td>\n",
       "      <td>Fayzabad</td>\n",
       "      <td>55</td>\n",
       "      <td>Bread</td>\n",
       "      <td>87</td>\n",
       "      <td>AFN</td>\n",
       "      <td>15</td>\n",
       "      <td>Retail</td>\n",
       "      <td>5</td>\n",
       "      <td>KG</td>\n",
       "      <td>1</td>\n",
       "      <td>2014</td>\n",
       "      <td>50.000</td>\n",
       "      <td>WFP</td>\n",
       "    </tr>\n",
       "    <tr>\n",
       "      <th>1</th>\n",
       "      <td>1</td>\n",
       "      <td>Afghanistan</td>\n",
       "      <td>272</td>\n",
       "      <td>Badakhshan</td>\n",
       "      <td>266</td>\n",
       "      <td>Fayzabad</td>\n",
       "      <td>55</td>\n",
       "      <td>Bread</td>\n",
       "      <td>87</td>\n",
       "      <td>AFN</td>\n",
       "      <td>15</td>\n",
       "      <td>Retail</td>\n",
       "      <td>5</td>\n",
       "      <td>KG</td>\n",
       "      <td>2</td>\n",
       "      <td>2014</td>\n",
       "      <td>50.000</td>\n",
       "      <td>WFP</td>\n",
       "    </tr>\n",
       "    <tr>\n",
       "      <th>2</th>\n",
       "      <td>1</td>\n",
       "      <td>Afghanistan</td>\n",
       "      <td>272</td>\n",
       "      <td>Badakhshan</td>\n",
       "      <td>266</td>\n",
       "      <td>Fayzabad</td>\n",
       "      <td>55</td>\n",
       "      <td>Bread</td>\n",
       "      <td>87</td>\n",
       "      <td>AFN</td>\n",
       "      <td>15</td>\n",
       "      <td>Retail</td>\n",
       "      <td>5</td>\n",
       "      <td>KG</td>\n",
       "      <td>3</td>\n",
       "      <td>2014</td>\n",
       "      <td>50.000</td>\n",
       "      <td>WFP</td>\n",
       "    </tr>\n",
       "    <tr>\n",
       "      <th>3</th>\n",
       "      <td>1</td>\n",
       "      <td>Afghanistan</td>\n",
       "      <td>272</td>\n",
       "      <td>Badakhshan</td>\n",
       "      <td>266</td>\n",
       "      <td>Fayzabad</td>\n",
       "      <td>55</td>\n",
       "      <td>Bread</td>\n",
       "      <td>87</td>\n",
       "      <td>AFN</td>\n",
       "      <td>15</td>\n",
       "      <td>Retail</td>\n",
       "      <td>5</td>\n",
       "      <td>KG</td>\n",
       "      <td>4</td>\n",
       "      <td>2014</td>\n",
       "      <td>50.000</td>\n",
       "      <td>WFP</td>\n",
       "    </tr>\n",
       "    <tr>\n",
       "      <th>4</th>\n",
       "      <td>1</td>\n",
       "      <td>Afghanistan</td>\n",
       "      <td>272</td>\n",
       "      <td>Badakhshan</td>\n",
       "      <td>266</td>\n",
       "      <td>Fayzabad</td>\n",
       "      <td>55</td>\n",
       "      <td>Bread</td>\n",
       "      <td>87</td>\n",
       "      <td>AFN</td>\n",
       "      <td>15</td>\n",
       "      <td>Retail</td>\n",
       "      <td>5</td>\n",
       "      <td>KG</td>\n",
       "      <td>5</td>\n",
       "      <td>2014</td>\n",
       "      <td>50.000</td>\n",
       "      <td>WFP</td>\n",
       "    </tr>\n",
       "  </tbody>\n",
       "</table>\n",
       "</div>"
      ],
      "text/plain": [
       "   adm0_id    adm0_name  adm1_id   adm1_name  mkt_id  mkt_name  cm_id cm_name  \\\n",
       "0        1  Afghanistan      272  Badakhshan     266  Fayzabad     55   Bread   \n",
       "1        1  Afghanistan      272  Badakhshan     266  Fayzabad     55   Bread   \n",
       "2        1  Afghanistan      272  Badakhshan     266  Fayzabad     55   Bread   \n",
       "3        1  Afghanistan      272  Badakhshan     266  Fayzabad     55   Bread   \n",
       "4        1  Afghanistan      272  Badakhshan     266  Fayzabad     55   Bread   \n",
       "\n",
       "   cur_id cur_name  pt_id pt_name  um_id um_name  mp_month  mp_year  mp_price  \\\n",
       "0      87      AFN     15  Retail      5      KG         1     2014    50.000   \n",
       "1      87      AFN     15  Retail      5      KG         2     2014    50.000   \n",
       "2      87      AFN     15  Retail      5      KG         3     2014    50.000   \n",
       "3      87      AFN     15  Retail      5      KG         4     2014    50.000   \n",
       "4      87      AFN     15  Retail      5      KG         5     2014    50.000   \n",
       "\n",
       "  mp_commoditysource  \n",
       "0                WFP  \n",
       "1                WFP  \n",
       "2                WFP  \n",
       "3                WFP  \n",
       "4                WFP  "
      ]
     },
     "execution_count": 5,
     "metadata": {},
     "output_type": "execute_result"
    }
   ],
   "source": [
    "data = pd.read_csv(data_file)\n",
    "data.head()"
   ]
  },
  {
   "cell_type": "markdown",
   "metadata": {},
   "source": [
    "<a id='exploration'></a>\n",
    "## 1. A basic exploration first"
   ]
  },
  {
   "cell_type": "code",
   "execution_count": 67,
   "metadata": {
    "scrolled": true
   },
   "outputs": [
    {
     "data": {
      "text/plain": [
       "(743914, 18)"
      ]
     },
     "execution_count": 67,
     "metadata": {},
     "output_type": "execute_result"
    }
   ],
   "source": [
    "data.shape"
   ]
  },
  {
   "cell_type": "markdown",
   "metadata": {},
   "source": [
    "So, our data has fairly good amount of records to perform Benford's analysis.\n",
    "\n",
    "#### Columns"
   ]
  },
  {
   "cell_type": "code",
   "execution_count": 35,
   "metadata": {},
   "outputs": [
    {
     "data": {
      "text/plain": [
       "adm0_id                 int64\n",
       "adm0_name              object\n",
       "adm1_id                 int64\n",
       "adm1_name              object\n",
       "mkt_id                  int64\n",
       "mkt_name               object\n",
       "cm_id                   int64\n",
       "cm_name                object\n",
       "cur_id                  int64\n",
       "cur_name               object\n",
       "pt_id                   int64\n",
       "pt_name                object\n",
       "um_id                   int64\n",
       "um_name                object\n",
       "mp_month                int64\n",
       "mp_year                 int64\n",
       "mp_price              float64\n",
       "mp_commoditysource     object\n",
       "dtype: object"
      ]
     },
     "execution_count": 35,
     "metadata": {},
     "output_type": "execute_result"
    }
   ],
   "source": [
    "data.dtypes"
   ]
  },
  {
   "cell_type": "markdown",
   "metadata": {},
   "source": [
    "#### Countries"
   ]
  },
  {
   "cell_type": "code",
   "execution_count": 73,
   "metadata": {
    "scrolled": true
   },
   "outputs": [
    {
     "name": "stdout",
     "output_type": "stream",
     "text": [
      "All the countries present-\n"
     ]
    },
    {
     "data": {
      "text/plain": [
       "array(['Afghanistan', 'Algeria', 'Armenia', 'Azerbaijan', 'Bangladesh',\n",
       "       'Benin', 'Bhutan', 'Bolivia', 'Burkina Faso', 'Burundi', 'Cambodia',\n",
       "       'Cameroon', 'Cape Verde', 'Central African Republic', 'Chad',\n",
       "       'Colombia', 'Congo', 'Costa Rica', \"Cote d'Ivoire\",\n",
       "       'Democratic Republic of the Congo', 'Djibouti', 'El Salvador',\n",
       "       'Ethiopia', 'Gambia', 'Georgia', 'Ghana', 'Guatemala',\n",
       "       'Guinea-Bissau', 'Guinea', 'Haiti', 'Honduras', 'India',\n",
       "       'Indonesia', 'Iran  (Islamic Republic of)', 'Iraq', 'Jordan',\n",
       "       'Kenya', 'Kyrgyzstan', \"Lao People's Democratic Republic\",\n",
       "       'Lebanon', 'Lesotho', 'Liberia', 'Madagascar', 'Malawi', 'Mali',\n",
       "       'Mauritania', 'Mozambique', 'Myanmar', 'Nepal', 'Niger', 'Nigeria',\n",
       "       'Pakistan', 'Panama', 'Peru', 'Philippines', 'Rwanda', 'Senegal',\n",
       "       'Somalia', 'Sri Lanka', 'Swaziland', 'Syrian Arab Republic',\n",
       "       'Tajikistan', 'Timor-Leste', 'Turkey', 'Uganda', 'Ukraine',\n",
       "       'United Republic of Tanzania', 'Yemen', 'Zambia', 'Zimbabwe',\n",
       "       'State of Palestine', 'Sudan', 'Egypt', 'South Sudan'], dtype=object)"
      ]
     },
     "execution_count": 73,
     "metadata": {},
     "output_type": "execute_result"
    }
   ],
   "source": [
    "print(\"All the countries present-\")\n",
    "data.adm0_name.unique()"
   ]
  },
  {
   "cell_type": "markdown",
   "metadata": {},
   "source": [
    "Thats a total of 74 countries!\n",
    "\n",
    "#### Items"
   ]
  },
  {
   "cell_type": "code",
   "execution_count": 118,
   "metadata": {},
   "outputs": [
    {
     "data": {
      "image/png": "[encoded data removed]",
      "text/plain": [
       "<matplotlib.figure.Figure at 0x7fa458f1cb38>"
      ]
     },
     "metadata": {},
     "output_type": "display_data"
    }
   ],
   "source": [
    "plt.figure(figsize=(10,5))\n",
    "data.cm_name.value_counts().head(20).plot(kind='bar')\n",
    "plt.xticks(rotation=70)\n",
    "plt.title(\"Top 20 items with most variations\")\n",
    "plt.show()"
   ]
  },
  {
   "cell_type": "markdown",
   "metadata": {},
   "source": [
    "In total there were 300+ food items in this list.\n",
    "\n",
    "#### Year-wise collection"
   ]
  },
  {
   "cell_type": "code",
   "execution_count": 119,
   "metadata": {},
   "outputs": [
    {
     "data": {
      "image/png": "[encoded data removed]",
      "text/plain": [
       "<matplotlib.figure.Figure at 0x7fa458b64a20>"
      ]
     },
     "metadata": {},
     "output_type": "display_data"
    }
   ],
   "source": [
    "plt.figure(figsize=(10,5))\n",
    "year_stats = data.mp_year.value_counts()\n",
    "plt.bar(year_stats.index, year_stats)\n",
    "plt.title(\"Year-wise total record collection\")\n",
    "plt.show()"
   ]
  },
  {
   "cell_type": "markdown",
   "metadata": {},
   "source": [
    "I thought record collection count will keep increasing (or probably will come to a flat line) as the time progressed, but after a peak during 2015, it decreased in 2016 to a level of 2013. The year 2017 didn't get over at the time of writing this.\n",
    "\n",
    "#### Prices"
   ]
  },
  {
   "cell_type": "code",
   "execution_count": 128,
   "metadata": {},
   "outputs": [
    {
     "data": {
      "text/plain": [
       "count    743914.000\n",
       "mean       4196.333\n",
       "std       55492.958\n",
       "min           0.000\n",
       "25%          30.000\n",
       "50%         175.000\n",
       "75%         500.000\n",
       "max     5833333.000\n",
       "Name: mp_price, dtype: float64"
      ]
     },
     "execution_count": 128,
     "metadata": {},
     "output_type": "execute_result"
    }
   ],
   "source": [
    "data.mp_price.describe()"
   ]
  },
  {
   "cell_type": "markdown",
   "metadata": {},
   "source": [
    "The prices are distributed over a very large range. As can be seen above, **minimum is 0 units** and **maximum is 5.8 million units**.\n",
    "\n",
    "For the curious ones, the items and country pairs where price is 0 units are-\n"
   ]
  },
  {
   "cell_type": "code",
   "execution_count": 83,
   "metadata": {},
   "outputs": [
    {
     "data": {
      "text/html": [
       "<div>\n",
       "<style>\n",
       "    .dataframe thead tr:only-child th {\n",
       "        text-align: right;\n",
       "    }\n",
       "\n",
       "    .dataframe thead th {\n",
       "        text-align: left;\n",
       "    }\n",
       "\n",
       "    .dataframe tbody tr th {\n",
       "        vertical-align: top;\n",
       "    }\n",
       "</style>\n",
       "<table border=\"1\" class=\"dataframe\">\n",
       "  <thead>\n",
       "    <tr style=\"text-align: right;\">\n",
       "      <th></th>\n",
       "      <th>Country</th>\n",
       "      <th>Items</th>\n",
       "      <th>Year</th>\n",
       "    </tr>\n",
       "  </thead>\n",
       "  <tbody>\n",
       "    <tr>\n",
       "      <th>0</th>\n",
       "      <td>Gambia</td>\n",
       "      <td>Fonio</td>\n",
       "      <td>2017</td>\n",
       "    </tr>\n",
       "    <tr>\n",
       "      <th>1</th>\n",
       "      <td>Jordan</td>\n",
       "      <td>Oranges (big size)</td>\n",
       "      <td>2016</td>\n",
       "    </tr>\n",
       "    <tr>\n",
       "      <th>2</th>\n",
       "      <td>Lao People's Democratic Republic</td>\n",
       "      <td>Fish (snake head)</td>\n",
       "      <td>2016</td>\n",
       "    </tr>\n",
       "    <tr>\n",
       "      <th>3</th>\n",
       "      <td>Lao People's Democratic Republic</td>\n",
       "      <td>Fish (snake head)</td>\n",
       "      <td>2017</td>\n",
       "    </tr>\n",
       "    <tr>\n",
       "      <th>4</th>\n",
       "      <td>Syrian Arab Republic</td>\n",
       "      <td>Dates</td>\n",
       "      <td>2016</td>\n",
       "    </tr>\n",
       "    <tr>\n",
       "      <th>5</th>\n",
       "      <td>Syrian Arab Republic</td>\n",
       "      <td>Cheese</td>\n",
       "      <td>2016</td>\n",
       "    </tr>\n",
       "    <tr>\n",
       "      <th>6</th>\n",
       "      <td>Syrian Arab Republic</td>\n",
       "      <td>Parsley</td>\n",
       "      <td>2016</td>\n",
       "    </tr>\n",
       "    <tr>\n",
       "      <th>7</th>\n",
       "      <td>Tajikistan</td>\n",
       "      <td>Wage (qualified labour)</td>\n",
       "      <td>2017</td>\n",
       "    </tr>\n",
       "    <tr>\n",
       "      <th>8</th>\n",
       "      <td>Tajikistan</td>\n",
       "      <td>Wage (non-qualified labour, non-agricultural)</td>\n",
       "      <td>2017</td>\n",
       "    </tr>\n",
       "  </tbody>\n",
       "</table>\n",
       "</div>"
      ],
      "text/plain": [
       "                            Country  \\\n",
       "0                            Gambia   \n",
       "1                            Jordan   \n",
       "2  Lao People's Democratic Republic   \n",
       "3  Lao People's Democratic Republic   \n",
       "4              Syrian Arab Republic   \n",
       "5              Syrian Arab Republic   \n",
       "6              Syrian Arab Republic   \n",
       "7                        Tajikistan   \n",
       "8                        Tajikistan   \n",
       "\n",
       "                                           Items  Year  \n",
       "0                                          Fonio  2017  \n",
       "1                             Oranges (big size)  2016  \n",
       "2                              Fish (snake head)  2016  \n",
       "3                              Fish (snake head)  2017  \n",
       "4                                          Dates  2016  \n",
       "5                                         Cheese  2016  \n",
       "6                                        Parsley  2016  \n",
       "7                        Wage (qualified labour)  2017  \n",
       "8  Wage (non-qualified labour, non-agricultural)  2017  "
      ]
     },
     "execution_count": 83,
     "metadata": {},
     "output_type": "execute_result"
    }
   ],
   "source": [
    "minimums = data[['adm0_name', 'cm_name', 'mp_year']][data.mp_price == data.mp_price.min()].drop_duplicates()\n",
    "minimums.columns = [\"Country\", \"Items\", \"Year\"]\n",
    "pd.DataFrame(minimums.reset_index(drop=1))"
   ]
  },
  {
   "cell_type": "markdown",
   "metadata": {},
   "source": [
    "I have zero idea what **Fonio** is. Entry 2 is wild -  **Fish (snake head)**. Entries 6th and 7th seems out of place. If they are not then Tajikistan is the place you can get a *really* cheap labour. I'll have to see the data to further drill down into it. But I am leaving that for some other time.\n",
    "\n",
    "Lets see what the max price is for."
   ]
  },
  {
   "cell_type": "code",
   "execution_count": 84,
   "metadata": {},
   "outputs": [
    {
     "data": {
      "text/html": [
       "<div>\n",
       "<style>\n",
       "    .dataframe thead tr:only-child th {\n",
       "        text-align: right;\n",
       "    }\n",
       "\n",
       "    .dataframe thead th {\n",
       "        text-align: left;\n",
       "    }\n",
       "\n",
       "    .dataframe tbody tr th {\n",
       "        vertical-align: top;\n",
       "    }\n",
       "</style>\n",
       "<table border=\"1\" class=\"dataframe\">\n",
       "  <thead>\n",
       "    <tr style=\"text-align: right;\">\n",
       "      <th></th>\n",
       "      <th>Country</th>\n",
       "      <th>Items</th>\n",
       "      <th>Year</th>\n",
       "    </tr>\n",
       "  </thead>\n",
       "  <tbody>\n",
       "    <tr>\n",
       "      <th>0</th>\n",
       "      <td>Afghanistan</td>\n",
       "      <td>Livestock (sheep, one-year-old alive female)</td>\n",
       "      <td>2002</td>\n",
       "    </tr>\n",
       "  </tbody>\n",
       "</table>\n",
       "</div>"
      ],
      "text/plain": [
       "       Country                                         Items  Year\n",
       "0  Afghanistan  Livestock (sheep, one-year-old alive female)  2002"
      ]
     },
     "execution_count": 84,
     "metadata": {},
     "output_type": "execute_result"
    }
   ],
   "source": [
    "maximums = data[['adm0_name', 'cm_name', 'mp_year']][data.mp_price == data.mp_price.max()].drop_duplicates()\n",
    "maximums.columns = [\"Country\", \"Items\", \"Year\"]\n",
    "pd.DataFrame(maximums.reset_index(drop=1))"
   ]
  },
  {
   "cell_type": "markdown",
   "metadata": {},
   "source": [
    "Meh, not that interesting.\n",
    "\n",
    "Anyway, I shoud mention this, this highest price value may not be the highest monetary value in the dataset. All of these figures are given in the respective currencies of their country. And, I haven't converted the figures to a standard one yet. And, I won't. For Benford's Analysis, I want the data as *natural* as I can get."
   ]
  },
  {
   "cell_type": "code",
   "execution_count": 61,
   "metadata": {},
   "outputs": [
    {
     "data": {
      "image/png": "[encoded data removed]",
      "text/plain": [
       "<matplotlib.figure.Figure at 0x7fef5f473f28>"
      ]
     },
     "metadata": {},
     "output_type": "display_data"
    }
   ],
   "source": [
    "plt.figure(figsize=(15,7))\n",
    "plt.hist(data.mp_price[data.mp_price < 1000], log=0, normed=0, bins=200)\n",
    "plt.title(\"Histogram - prices < 1000\")\n",
    "plt.show()"
   ]
  },
  {
   "cell_type": "markdown",
   "metadata": {},
   "source": [
    "The above plot shows a right skewed data with a very looooong right tail. In the plot I have capped the prices at 1000 units but it's going till 5 mill units. I am guessing, Benford's analysis will be accurate over this data.\n",
    "\n",
    "<a id=\"benford\"></a>\n",
    "## 2. Benford's Analysis"
   ]
  },
  {
   "cell_type": "code",
   "execution_count": 96,
   "metadata": {},
   "outputs": [
    {
     "name": "stdout",
     "output_type": "stream",
     "text": [
      "First digit frequencies-\n",
      "\n",
      "1   30.522\n",
      "2   20.214\n",
      "3   13.256\n",
      "4    9.043\n",
      "5    6.991\n",
      "6    6.074\n",
      "7    5.420\n",
      "8    4.567\n",
      "9    3.912\n",
      "Name: mp_price, dtype: float64\n"
     ]
    },
    {
     "data": {
      "image/png": "[encoded data removed]",
      "text/plain": [
       "<matplotlib.figure.Figure at 0x7fef7b148128>"
      ]
     },
     "metadata": {},
     "output_type": "display_data"
    }
   ],
   "source": [
    "# First digit frequencies\n",
    "freq = data.mp_price.astype(str).str.replace(\"-\", \"\").str.lstrip(\"0\").str.lstrip(\".\").str.lstrip(\"0\").str[0].value_counts()\n",
    "freq = freq/data.shape[0]\n",
    "print(\"First digit frequencies-\\n\")\n",
    "print(freq.sort_index()*100)\n",
    "\n",
    "# First frequency digit plot\n",
    "plt.figure(figsize=(10,5))\n",
    "plt.bar(freq.index.astype(int), freq, label='Calculated Frequency')\n",
    "plt.plot(range(1, 10), [0.301, 0.176, 0.125, 0.097, 0.079, 0.067, 0.058, 0.051, 0.046], c='red', label='Theoretical Frequency')\n",
    "plt.legend(loc='upper right')\n",
    "plt.title(\"First digit frequencies\")\n",
    "plt.xticks(freq.index.astype(int))\n",
    "plt.show()"
   ]
  },
  {
   "cell_type": "markdown",
   "metadata": {},
   "source": [
    "It does follow the Benford's law. Nice.\n",
    "\n",
    "The source of this and other notebooks can be found in this Github repo - [Notebooks](https://github.com/TrigonaMinima/Notebooks)."
   ]
  }
 ],
 "metadata": {
  "kernelspec": {
   "display_name": "Python [default]",
   "language": "python",
   "name": "python3"
  },
  "language_info": {
   "codemirror_mode": {
    "name": "ipython",
    "version": 3
   },
   "file_extension": ".py",
   "mimetype": "text/x-python",
   "name": "python",
   "nbconvert_exporter": "python",
   "pygments_lexer": "ipython3",
   "version": "3.6.2"
  }
 },
 "nbformat": 4,
 "nbformat_minor": 2
}
