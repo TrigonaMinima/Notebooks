{
 "cells": [
  {
   "cell_type": "markdown",
   "metadata": {},
   "source": [
    "# Benford's Analysis - Climate\n",
    "\n",
    "This notebook was made to supplement one of my blogpost - [Benford's Law as a Fraud Detection technique](https://trigonaminima.github.io/data-analysis/fraud/2017/07/29/Benford's-Law-as-a-Fraud-Detection-technique/). Although, you'll be able to follow it along without reading the blogpost. You just need to know what Benford's law says. In this notebook, we'll see how to do a Benford's analysis and by doing so, we'll see if our dataset (historical temperatures of India) will follow the Benford's law.\n",
    "\n",
    "\n",
    "## Index\n",
    "\n",
    "1. [World Temperatures](#wt)\n",
    "2. [Global Land Temperatures - India](#glt)\n",
    "3. [GlobalLandTemperaturesByState - India](#glts)\n",
    "4. [GlobalLandTemperaturesByMajorCity - India](#gltmc)\n",
    "5. [GlobalLandTemperaturesByCity - India](#gltc)\n",
    "6. [Conclusion](#conc)\n",
    "\n",
    "\n",
    "## Dataset\n",
    "\n",
    "I cant find the link for the dataset used. It was an open dataset I had downloaded some 7-8 months back. I had downloaded just for the India category. It consists of the temperatures from 1700s to present (with a lot of NaNs for earlier periods).\n",
    "\n",
    "\n"
   ]
  },
  {
   "cell_type": "code",
   "execution_count": 2,
   "metadata": {
    "collapsed": true
   },
   "outputs": [],
   "source": [
    "import pandas as pd\n",
    "import matplotlib.pyplot as plt\n",
    "\n",
    "%matplotlib inline"
   ]
  },
  {
   "cell_type": "code",
   "execution_count": 5,
   "metadata": {
    "collapsed": true
   },
   "outputs": [],
   "source": [
    "data_dir = \"Data/Climate Change/\"\n",
    "\n",
    "files = [\n",
    "    \"WorldTemperaturesClean.csv\",\n",
    "    \"GlobalLandTemperaturesByCity.csv\",\n",
    "    \"GlobalLandTemperaturesByMajorCity.csv\",\n",
    "    \"GlobalLandTemperaturesByState.csv\",\n",
    "    \"GlobalLandTemperatures.csv\"\n",
    "    ]\n"
   ]
  },
  {
   "cell_type": "markdown",
   "metadata": {},
   "source": [
    "<a id='wt'></a>\n",
    "## 1. WorldTemperatures"
   ]
  },
  {
   "cell_type": "code",
   "execution_count": 74,
   "metadata": {},
   "outputs": [
    {
     "data": {
      "text/html": [
       "<div>\n",
       "<style>\n",
       "    .dataframe thead tr:only-child th {\n",
       "        text-align: right;\n",
       "    }\n",
       "\n",
       "    .dataframe thead th {\n",
       "        text-align: left;\n",
       "    }\n",
       "\n",
       "    .dataframe tbody tr th {\n",
       "        vertical-align: top;\n",
       "    }\n",
       "</style>\n",
       "<table border=\"1\" class=\"dataframe\">\n",
       "  <thead>\n",
       "    <tr style=\"text-align: right;\">\n",
       "      <th></th>\n",
       "      <th>dt</th>\n",
       "      <th>LandAverageTemperature</th>\n",
       "      <th>LandMaxTemperature</th>\n",
       "      <th>LandMinTemperature</th>\n",
       "    </tr>\n",
       "  </thead>\n",
       "  <tbody>\n",
       "    <tr>\n",
       "      <th>0</th>\n",
       "      <td>1850-01-01</td>\n",
       "      <td>0.7490000000000001</td>\n",
       "      <td>8.241999999999999</td>\n",
       "      <td>-3.2060000000000004</td>\n",
       "    </tr>\n",
       "    <tr>\n",
       "      <th>1</th>\n",
       "      <td>1850-02-01</td>\n",
       "      <td>3.071</td>\n",
       "      <td>9.97</td>\n",
       "      <td>-2.2910000000000004</td>\n",
       "    </tr>\n",
       "    <tr>\n",
       "      <th>2</th>\n",
       "      <td>1850-03-01</td>\n",
       "      <td>4.954</td>\n",
       "      <td>10.347</td>\n",
       "      <td>-1.905</td>\n",
       "    </tr>\n",
       "    <tr>\n",
       "      <th>3</th>\n",
       "      <td>1850-04-01</td>\n",
       "      <td>7.217</td>\n",
       "      <td>12.934000000000001</td>\n",
       "      <td>1.018</td>\n",
       "    </tr>\n",
       "    <tr>\n",
       "      <th>4</th>\n",
       "      <td>1850-05-01</td>\n",
       "      <td>10.004</td>\n",
       "      <td>15.655</td>\n",
       "      <td>3.8110000000000004</td>\n",
       "    </tr>\n",
       "  </tbody>\n",
       "</table>\n",
       "</div>"
      ],
      "text/plain": [
       "           dt LandAverageTemperature  LandMaxTemperature   LandMinTemperature\n",
       "0  1850-01-01     0.7490000000000001   8.241999999999999  -3.2060000000000004\n",
       "1  1850-02-01                  3.071                9.97  -2.2910000000000004\n",
       "2  1850-03-01                  4.954              10.347               -1.905\n",
       "3  1850-04-01                  7.217  12.934000000000001                1.018\n",
       "4  1850-05-01                 10.004              15.655   3.8110000000000004"
      ]
     },
     "execution_count": 74,
     "metadata": {},
     "output_type": "execute_result"
    }
   ],
   "source": [
    "wtc = pd.read_csv(data_dir + files[0], dtype=str)\n",
    "wtc.head()"
   ]
  },
  {
   "cell_type": "code",
   "execution_count": 75,
   "metadata": {
    "scrolled": false
   },
   "outputs": [
    {
     "name": "stdout",
     "output_type": "stream",
     "text": [
      "(1992, 4)\n"
     ]
    }
   ],
   "source": [
    "print(wtc.shape)"
   ]
  },
  {
   "cell_type": "markdown",
   "metadata": {},
   "source": [
    "#### Land Max Temperature\n"
   ]
  },
  {
   "cell_type": "code",
   "execution_count": 158,
   "metadata": {},
   "outputs": [
    {
     "name": "stdout",
     "output_type": "stream",
     "text": [
      "Column description-\n",
      "\n",
      "count    1992.000000\n",
      "mean       14.350601\n",
      "std         4.309579\n",
      "min         5.900000\n",
      "25%        10.212000\n",
      "50%        14.760000\n",
      "75%        18.451500\n",
      "max        21.320000\n",
      "Name: LandMaxTemperature, dtype: float64\n"
     ]
    }
   ],
   "source": [
    "print(\"Column description-\\n\")\n",
    "print(wtc.LandMaxTemperature.astype(float).describe())"
   ]
  },
  {
   "cell_type": "code",
   "execution_count": 185,
   "metadata": {},
   "outputs": [
    {
     "name": "stdout",
     "output_type": "stream",
     "text": [
      "First digit frequencies-\n",
      "\n",
      "1    0.683233\n",
      "2    0.075301\n",
      "5    0.000502\n",
      "6    0.003514\n",
      "7    0.037651\n",
      "8    0.118474\n",
      "9    0.081325\n",
      "Name: LandMaxTemperature, dtype: float64\n"
     ]
    },
    {
     "data": {
      "text/plain": [
       "[]"
      ]
     },
     "execution_count": 185,
     "metadata": {},
     "output_type": "execute_result"
    },
    {
     "data": {
      "image/png": "[encoded data removed]",
      "text/plain": [
       "<matplotlib.figure.Figure at 0x7fe381bd6a20>"
      ]
     },
     "metadata": {},
     "output_type": "display_data"
    }
   ],
   "source": [
    "fig, axs = plt.subplots(ncols=2, figsize=(10, 5))\n",
    "fig.subplots_adjust(hspace=0.5, left=0.07, right=0.93)\n",
    "\n",
    "# Frequency distribution plot\n",
    "ax = axs[0]\n",
    "ax.hist(wtc.LandMaxTemperature.astype(float), normed=1)\n",
    "ax.set_title(\"Frequency Distribution\")\n",
    "\n",
    "# First digit frequencies\n",
    "freq = wtc.LandMaxTemperature.str.replace(\"-\", \"\").str.lstrip(\"0\").str.lstrip(\".\").str.lstrip(\"0\").str[0].value_counts()\n",
    "freq = freq/wtc.shape[0]\n",
    "print(\"First digit frequencies-\\n\")\n",
    "print(freq.sort_index())\n",
    "\n",
    "# First frequency digit plot\n",
    "ax = axs[1]\n",
    "ax.bar(freq.index.astype(int), freq)\n",
    "ax.plot(range(1, 10), [0.301, 0.176, 0.125, 0.097, 0.079, 0.067, 0.058, 0.051, 0.046], c='red')\n",
    "ax.set_title(\"First digit frequencies\")\n",
    "plt.xticks(freq.index.astype(int))\n",
    "\n",
    "\n",
    "# Main title\n",
    "plt.suptitle(\"Variable: Land Max Temperature\")\n",
    "plt.plot()"
   ]
  },
  {
   "cell_type": "markdown",
   "metadata": {},
   "source": [
    "In the above plots we can see that this column (LandMaxTemperature) was not good for benford analysis. The min and max of the vaiable ranges from 6 to 22. This is not suitable for benford's law. Not enough **variance** in the data. Then the distribution also does not follow the **uniform distribution** pattern. Data is just not enough.\n",
    "\n",
    "2nd plot shows the Benford plot. It does not follow the Benford's law (red line). Digits 3 and 4 are not even present in the data."
   ]
  },
  {
   "cell_type": "markdown",
   "metadata": {},
   "source": [
    "#### Land Min Temperature"
   ]
  },
  {
   "cell_type": "code",
   "execution_count": 167,
   "metadata": {},
   "outputs": [
    {
     "name": "stdout",
     "output_type": "stream",
     "text": [
      "Column description-\n"
     ]
    },
    {
     "data": {
      "text/plain": [
       "count    1992.000000\n",
       "mean        4.174757\n",
       "std         2.713801\n",
       "min         0.011000\n",
       "25%         1.889500\n",
       "50%         3.521500\n",
       "75%         6.778750\n",
       "max         9.715000\n",
       "Name: LandMinTemperature, dtype: float64"
      ]
     },
     "execution_count": 167,
     "metadata": {},
     "output_type": "execute_result"
    }
   ],
   "source": [
    "print(\"Column description-\")\n",
    "wtc.LandMinTemperature.astype(float).abs().describe()"
   ]
  },
  {
   "cell_type": "code",
   "execution_count": 186,
   "metadata": {},
   "outputs": [
    {
     "name": "stdout",
     "output_type": "stream",
     "text": [
      "First digit frequencies-\n",
      "\n",
      "1    0.157129\n",
      "2    0.164659\n",
      "3    0.143072\n",
      "4    0.076807\n",
      "5    0.094378\n",
      "6    0.086345\n",
      "7    0.135542\n",
      "8    0.112952\n",
      "9    0.029116\n",
      "Name: LandMinTemperature, dtype: float64\n"
     ]
    },
    {
     "data": {
      "text/plain": [
       "[]"
      ]
     },
     "execution_count": 186,
     "metadata": {},
     "output_type": "execute_result"
    },
    {
     "data": {
      "image/png": "[encoded data removed]",
      "text/plain": [
       "<matplotlib.figure.Figure at 0x7fe382f7d978>"
      ]
     },
     "metadata": {},
     "output_type": "display_data"
    }
   ],
   "source": [
    "fig, axs = plt.subplots(ncols=2, figsize=(10, 5))\n",
    "fig.subplots_adjust(hspace=0.5, left=0.07, right=0.93)\n",
    "\n",
    "# Frequency distribution plot\n",
    "ax = axs[0]\n",
    "ax.hist(wtc.LandMinTemperature.astype(float).abs(), normed=1)\n",
    "ax.set_title(\"Frequency Distribution\")\n",
    "\n",
    "# First digit frequencies\n",
    "freq = wtc.LandMinTemperature.str.replace(\"-\", \"\").str.lstrip(\"0\").str.lstrip(\".\").str.lstrip(\"0\").str[0].value_counts()\n",
    "freq = freq/wtc.shape[0]\n",
    "print(\"First digit frequencies-\\n\")\n",
    "print(freq.sort_index())\n",
    "\n",
    "# First frequency digit plot\n",
    "ax = axs[1]\n",
    "ax.bar(freq.index.astype(int), freq)\n",
    "ax.plot(range(1, 10), [0.301, 0.176, 0.125, 0.097, 0.079, 0.067, 0.058, 0.051, 0.046], c='red')\n",
    "ax.set_title(\"First digit frequencies\")\n",
    "plt.xticks(freq.index.astype(int))\n",
    "\n",
    "# Main title\n",
    "plt.suptitle(\"Variable: Land Min Temperature\")\n",
    "plt.plot()"
   ]
  },
  {
   "cell_type": "markdown",
   "metadata": {},
   "source": [
    "Here we have all the digits in the first digit frequency plot. It does not follow the Benford's law properly though. If we look carefully, both frequency distribution and first digit frequency plots are almost same. And, that is because, our data ranges from 0 to 9 same as our fir digit plot except the 0. Again, not good enough **variance**, no **uniform distribution** and **small dataset**.\n",
    "\n",
    "Clearly, this column (LandMinTemperature) was not a good candidate for Benford's law. Red line delineates that."
   ]
  },
  {
   "cell_type": "markdown",
   "metadata": {},
   "source": [
    "#### Land Average Temperature"
   ]
  },
  {
   "cell_type": "code",
   "execution_count": 166,
   "metadata": {},
   "outputs": [
    {
     "name": "stdout",
     "output_type": "stream",
     "text": [
      "Column description-\n"
     ]
    },
    {
     "data": {
      "text/plain": [
       "count    1992.000000\n",
       "mean        8.571583\n",
       "std         4.263193\n",
       "min         0.404000\n",
       "25%         4.430000\n",
       "50%         8.850500\n",
       "75%        12.858500\n",
       "max        15.482000\n",
       "Name: LandAverageTemperature, dtype: float64"
      ]
     },
     "execution_count": 166,
     "metadata": {},
     "output_type": "execute_result"
    }
   ],
   "source": [
    "print(\"Column description-\")\n",
    "wtc.LandAverageTemperature.astype(float).abs().describe()"
   ]
  },
  {
   "cell_type": "code",
   "execution_count": 187,
   "metadata": {},
   "outputs": [
    {
     "name": "stdout",
     "output_type": "stream",
     "text": [
      "First digit frequencies-\n",
      "\n",
      "1    0.443775\n",
      "2    0.094378\n",
      "3    0.103916\n",
      "4    0.072289\n",
      "5    0.074799\n",
      "6    0.046687\n",
      "7    0.030622\n",
      "8    0.067269\n",
      "9    0.066265\n",
      "Name: LandAverageTemperature, dtype: float64\n"
     ]
    },
    {
     "data": {
      "text/plain": [
       "[]"
      ]
     },
     "execution_count": 187,
     "metadata": {},
     "output_type": "execute_result"
    },
    {
     "data": {
      "image/png": "[encoded data removed]",
      "text/plain": [
       "<matplotlib.figure.Figure at 0x7fe383043a20>"
      ]
     },
     "metadata": {},
     "output_type": "display_data"
    }
   ],
   "source": [
    "fig, axs = plt.subplots(ncols=2, figsize=(10, 5))\n",
    "fig.subplots_adjust(hspace=0.5, left=0.07, right=0.93)\n",
    "\n",
    "# Frequency distribution plot\n",
    "ax = axs[0]\n",
    "ax.hist(wtc.LandAverageTemperature.astype(float).abs(), normed=1)\n",
    "ax.set_title(\"Frequency Distribution\")\n",
    "\n",
    "# First digit frequencies\n",
    "freq = wtc.LandAverageTemperature.str.replace(\"-\", \"\").str.lstrip(\"0\").str.lstrip(\".\").str.lstrip(\"0\").str[0].value_counts()\n",
    "freq = freq/wtc.shape[0]\n",
    "print(\"First digit frequencies-\\n\")\n",
    "print(freq.sort_index())\n",
    "\n",
    "# First frequency digit plot\n",
    "ax = axs[1]\n",
    "ax.bar(freq.index.astype(int), freq)\n",
    "ax.plot(range(1, 10), [0.301, 0.176, 0.125, 0.097, 0.079, 0.067, 0.058, 0.051, 0.046], c='red')\n",
    "ax.set_title(\"First digit frequencies\")\n",
    "plt.xticks(freq.index.astype(int))\n",
    "\n",
    "# Main title\n",
    "plt.suptitle(\"Variable: Land Average Temperature\")\n",
    "plt.plot()"
   ]
  },
  {
   "cell_type": "markdown",
   "metadata": {},
   "source": [
    "We have all the digits to compare. No **uniform distribution** can be seen. Data ranges from 0 to 15. Not enough **variance** again. And, dataset is small as well.\n",
    "\n",
    "The first digit frequency plot, *kind of* follows the trend but fails (red line). Frequencies of digit 1 and 2 varies *a lot*. Then digits 6 and 7 should be higher than 8 and 9.\n"
   ]
  },
  {
   "cell_type": "markdown",
   "metadata": {},
   "source": [
    "<a id='glt'></a>\n",
    "## 2. GlobalLandTemperatures - India"
   ]
  },
  {
   "cell_type": "code",
   "execution_count": 89,
   "metadata": {},
   "outputs": [
    {
     "data": {
      "text/html": [
       "<div>\n",
       "<style>\n",
       "    .dataframe thead tr:only-child th {\n",
       "        text-align: right;\n",
       "    }\n",
       "\n",
       "    .dataframe thead th {\n",
       "        text-align: left;\n",
       "    }\n",
       "\n",
       "    .dataframe tbody tr th {\n",
       "        vertical-align: top;\n",
       "    }\n",
       "</style>\n",
       "<table border=\"1\" class=\"dataframe\">\n",
       "  <thead>\n",
       "    <tr style=\"text-align: right;\">\n",
       "      <th></th>\n",
       "      <th>dt</th>\n",
       "      <th>AverageTemperature</th>\n",
       "      <th>AverageTemperatureUncertainty</th>\n",
       "      <th>Country</th>\n",
       "    </tr>\n",
       "  </thead>\n",
       "  <tbody>\n",
       "    <tr>\n",
       "      <th>0</th>\n",
       "      <td>1796-01-01</td>\n",
       "      <td>17.044</td>\n",
       "      <td>2.044</td>\n",
       "      <td>India</td>\n",
       "    </tr>\n",
       "    <tr>\n",
       "      <th>1</th>\n",
       "      <td>1796-02-01</td>\n",
       "      <td>19.192999999999998</td>\n",
       "      <td>1.359</td>\n",
       "      <td>India</td>\n",
       "    </tr>\n",
       "    <tr>\n",
       "      <th>2</th>\n",
       "      <td>1796-03-01</td>\n",
       "      <td>22.319000000000006</td>\n",
       "      <td>2.125</td>\n",
       "      <td>India</td>\n",
       "    </tr>\n",
       "    <tr>\n",
       "      <th>3</th>\n",
       "      <td>1796-04-01</td>\n",
       "      <td>27.233</td>\n",
       "      <td>1.51</td>\n",
       "      <td>India</td>\n",
       "    </tr>\n",
       "    <tr>\n",
       "      <th>4</th>\n",
       "      <td>1796-05-01</td>\n",
       "      <td>30.035</td>\n",
       "      <td>1.338</td>\n",
       "      <td>India</td>\n",
       "    </tr>\n",
       "  </tbody>\n",
       "</table>\n",
       "</div>"
      ],
      "text/plain": [
       "           dt  AverageTemperature AverageTemperatureUncertainty Country\n",
       "0  1796-01-01              17.044                         2.044   India\n",
       "1  1796-02-01  19.192999999999998                         1.359   India\n",
       "2  1796-03-01  22.319000000000006                         2.125   India\n",
       "3  1796-04-01              27.233                          1.51   India\n",
       "4  1796-05-01              30.035                         1.338   India"
      ]
     },
     "execution_count": 89,
     "metadata": {},
     "output_type": "execute_result"
    }
   ],
   "source": [
    "glt = pd.read_csv(data_dir + files[-1], dtype=str)\n",
    "glt.head()"
   ]
  },
  {
   "cell_type": "code",
   "execution_count": 90,
   "metadata": {
    "scrolled": false
   },
   "outputs": [
    {
     "name": "stdout",
     "output_type": "stream",
     "text": [
      "(2613, 4)\n"
     ]
    }
   ],
   "source": [
    "print(glt.shape)"
   ]
  },
  {
   "cell_type": "code",
   "execution_count": 165,
   "metadata": {},
   "outputs": [
    {
     "name": "stdout",
     "output_type": "stream",
     "text": [
      "Column description-\n"
     ]
    },
    {
     "data": {
      "text/plain": [
       "count    2508.000000\n",
       "mean       23.873789\n",
       "std         4.325811\n",
       "min        14.385000\n",
       "25%        19.857750\n",
       "50%        25.018500\n",
       "75%        27.132750\n",
       "max        31.329000\n",
       "Name: AverageTemperature, dtype: float64"
      ]
     },
     "execution_count": 165,
     "metadata": {},
     "output_type": "execute_result"
    }
   ],
   "source": [
    "print(\"Column description-\")\n",
    "glt.AverageTemperature.astype(float).describe()"
   ]
  },
  {
   "cell_type": "code",
   "execution_count": 168,
   "metadata": {
    "scrolled": true
   },
   "outputs": [
    {
     "name": "stdout",
     "output_type": "stream",
     "text": [
      "1    0.249522\n",
      "2    0.671259\n",
      "3    0.039036\n",
      "Name: AverageTemperature, dtype: float64\n"
     ]
    }
   ],
   "source": [
    "# wtc.LandAverageTemperature.astype(str).str[0].unique()\n",
    "freq_avg = glt.AverageTemperature.str.replace(\"-\", \"\").str.lstrip(\"0\").str.lstrip(\".\").str.lstrip(\"0\").str[0].value_counts()\n",
    "freq_avg = freq_avg/glt.shape[0]\n",
    "print(freq_avg.sort_index())\n"
   ]
  },
  {
   "cell_type": "markdown",
   "metadata": {},
   "source": [
    "Here, we dont even have all the digits to get a frequency of. Moving on."
   ]
  },
  {
   "cell_type": "markdown",
   "metadata": {},
   "source": [
    "<a id='glts'></a>\n",
    "## 3. GlobalLandTemperaturesByState - India"
   ]
  },
  {
   "cell_type": "code",
   "execution_count": 14,
   "metadata": {},
   "outputs": [
    {
     "data": {
      "text/html": [
       "<div>\n",
       "<style>\n",
       "    .dataframe thead tr:only-child th {\n",
       "        text-align: right;\n",
       "    }\n",
       "\n",
       "    .dataframe thead th {\n",
       "        text-align: left;\n",
       "    }\n",
       "\n",
       "    .dataframe tbody tr th {\n",
       "        vertical-align: top;\n",
       "    }\n",
       "</style>\n",
       "<table border=\"1\" class=\"dataframe\">\n",
       "  <thead>\n",
       "    <tr style=\"text-align: right;\">\n",
       "      <th></th>\n",
       "      <th>dt</th>\n",
       "      <th>AverageTemperature</th>\n",
       "      <th>AverageTemperatureUncertainty</th>\n",
       "      <th>State</th>\n",
       "      <th>Country</th>\n",
       "    </tr>\n",
       "  </thead>\n",
       "  <tbody>\n",
       "    <tr>\n",
       "      <th>0</th>\n",
       "      <td>1796-01-01</td>\n",
       "      <td>26.534</td>\n",
       "      <td>1.9040000000000001</td>\n",
       "      <td>Andaman And Nicobar</td>\n",
       "      <td>India</td>\n",
       "    </tr>\n",
       "    <tr>\n",
       "      <th>1</th>\n",
       "      <td>1796-02-01</td>\n",
       "      <td>26.294</td>\n",
       "      <td>1.122</td>\n",
       "      <td>Andaman And Nicobar</td>\n",
       "      <td>India</td>\n",
       "    </tr>\n",
       "    <tr>\n",
       "      <th>2</th>\n",
       "      <td>1796-03-01</td>\n",
       "      <td>26.18</td>\n",
       "      <td>1.959</td>\n",
       "      <td>Andaman And Nicobar</td>\n",
       "      <td>India</td>\n",
       "    </tr>\n",
       "    <tr>\n",
       "      <th>3</th>\n",
       "      <td>1796-04-01</td>\n",
       "      <td>27.942</td>\n",
       "      <td>1.281</td>\n",
       "      <td>Andaman And Nicobar</td>\n",
       "      <td>India</td>\n",
       "    </tr>\n",
       "    <tr>\n",
       "      <th>4</th>\n",
       "      <td>1796-05-01</td>\n",
       "      <td>28.651</td>\n",
       "      <td>1.119</td>\n",
       "      <td>Andaman And Nicobar</td>\n",
       "      <td>India</td>\n",
       "    </tr>\n",
       "  </tbody>\n",
       "</table>\n",
       "</div>"
      ],
      "text/plain": [
       "           dt AverageTemperature AverageTemperatureUncertainty  \\\n",
       "0  1796-01-01             26.534            1.9040000000000001   \n",
       "1  1796-02-01             26.294                         1.122   \n",
       "2  1796-03-01              26.18                         1.959   \n",
       "3  1796-04-01             27.942                         1.281   \n",
       "4  1796-05-01             28.651                         1.119   \n",
       "\n",
       "                 State Country  \n",
       "0  Andaman And Nicobar   India  \n",
       "1  Andaman And Nicobar   India  \n",
       "2  Andaman And Nicobar   India  \n",
       "3  Andaman And Nicobar   India  \n",
       "4  Andaman And Nicobar   India  "
      ]
     },
     "execution_count": 14,
     "metadata": {},
     "output_type": "execute_result"
    }
   ],
   "source": [
    "glts = pd.read_csv(data_dir + files[-2], dtype=str)\n",
    "glts.head()"
   ]
  },
  {
   "cell_type": "code",
   "execution_count": 109,
   "metadata": {
    "scrolled": true
   },
   "outputs": [
    {
     "data": {
      "text/plain": [
       "(86664, 5)"
      ]
     },
     "execution_count": 109,
     "metadata": {},
     "output_type": "execute_result"
    }
   ],
   "source": [
    "glts.shape"
   ]
  },
  {
   "cell_type": "code",
   "execution_count": 170,
   "metadata": {},
   "outputs": [
    {
     "name": "stdout",
     "output_type": "stream",
     "text": [
      "Column description-\n"
     ]
    },
    {
     "data": {
      "text/plain": [
       "count    81620.000000\n",
       "mean        22.729187\n",
       "std          7.158426\n",
       "min          0.004000\n",
       "25%         19.063000\n",
       "50%         25.094500\n",
       "75%         27.628000\n",
       "max         36.339000\n",
       "Name: AverageTemperature, dtype: float64"
      ]
     },
     "execution_count": 170,
     "metadata": {},
     "output_type": "execute_result"
    }
   ],
   "source": [
    "print(\"Column description-\")\n",
    "glts.AverageTemperature.astype(float).abs().describe()"
   ]
  },
  {
   "cell_type": "code",
   "execution_count": 15,
   "metadata": {
    "scrolled": false
   },
   "outputs": [
    {
     "name": "stdout",
     "output_type": "stream",
     "text": [
      "First digit frequencies-\n",
      "\n",
      "1    0.200222\n",
      "2    0.596603\n",
      "3    0.088849\n",
      "4    0.009173\n",
      "5    0.009727\n",
      "6    0.010546\n",
      "7    0.009439\n",
      "8    0.007743\n",
      "9    0.009496\n",
      "Name: AverageTemperature, dtype: float64\n"
     ]
    },
    {
     "data": {
      "text/plain": [
       "[]"
      ]
     },
     "execution_count": 15,
     "metadata": {},
     "output_type": "execute_result"
    },
    {
     "data": {
      "image/png": "[encoded data removed]",
      "text/plain": [
       "<matplotlib.figure.Figure at 0x7f96e09b47f0>"
      ]
     },
     "metadata": {},
     "output_type": "display_data"
    }
   ],
   "source": [
    "fig, axs = plt.subplots(ncols=2, figsize=(10, 5))\n",
    "fig.subplots_adjust(hspace=0.5, left=0.07, right=0.93)\n",
    "\n",
    "# Frequency distribution plot\n",
    "ax = axs[0]\n",
    "ax.hist(glts.AverageTemperature.astype(float).abs().dropna(), normed=1)\n",
    "ax.set_title(\"Frequency Distribution\")\n",
    "\n",
    "# First digit frequencies\n",
    "freq = glts.AverageTemperature.str.replace(\"-\", \"\").str.lstrip(\"0\").str.lstrip(\".\").str.lstrip(\"0\").str[0].value_counts()\n",
    "freq = freq/glts.shape[0]\n",
    "print(\"First digit frequencies-\\n\")\n",
    "print(freq.sort_index())\n",
    "\n",
    "# First frequency digit plot\n",
    "ax = axs[1]\n",
    "ax.bar(freq.index.astype(int), freq)\n",
    "ax.plot(range(1, 10), [0.301, 0.176, 0.125, 0.097, 0.079, 0.067, 0.058, 0.051, 0.046], c='red')\n",
    "ax.set_title(\"First digit frequencies\")\n",
    "plt.xticks(freq.index.astype(int))\n",
    "\n",
    "# Main title\n",
    "plt.suptitle(\"Variable: Global Land Temperature by State - India\")\n",
    "plt.plot()"
   ]
  },
  {
   "cell_type": "markdown",
   "metadata": {},
   "source": [
    "Here, the situation is a bit different. Dataset is fairly large. We have a left skewed frequency distribution. If it had been a **right skewed or uniform**, it'd have been helpful. Data also has a **small variance** thus limiting the magnitude.\n",
    "\n",
    "Benford law isn't followed properly here as well. Red line again."
   ]
  },
  {
   "cell_type": "markdown",
   "metadata": {},
   "source": [
    "<a id='gltmc'></a>\n",
    "## 4. GlobalLandTemperaturesByMajorCity - India"
   ]
  },
  {
   "cell_type": "code",
   "execution_count": 111,
   "metadata": {},
   "outputs": [
    {
     "data": {
      "text/html": [
       "<div>\n",
       "<style>\n",
       "    .dataframe thead tr:only-child th {\n",
       "        text-align: right;\n",
       "    }\n",
       "\n",
       "    .dataframe thead th {\n",
       "        text-align: left;\n",
       "    }\n",
       "\n",
       "    .dataframe tbody tr th {\n",
       "        vertical-align: top;\n",
       "    }\n",
       "</style>\n",
       "<table border=\"1\" class=\"dataframe\">\n",
       "  <thead>\n",
       "    <tr style=\"text-align: right;\">\n",
       "      <th></th>\n",
       "      <th>dt</th>\n",
       "      <th>AverageTemperature</th>\n",
       "      <th>AverageTemperatureUncertainty</th>\n",
       "      <th>City</th>\n",
       "      <th>Country</th>\n",
       "      <th>Latitude</th>\n",
       "      <th>Longitude</th>\n",
       "    </tr>\n",
       "  </thead>\n",
       "  <tbody>\n",
       "    <tr>\n",
       "      <th>0</th>\n",
       "      <td>1796-01-01</td>\n",
       "      <td>19.649</td>\n",
       "      <td>2.286</td>\n",
       "      <td>Ahmadabad</td>\n",
       "      <td>India</td>\n",
       "      <td>23.31N</td>\n",
       "      <td>72.52E</td>\n",
       "    </tr>\n",
       "    <tr>\n",
       "      <th>1</th>\n",
       "      <td>1796-02-01</td>\n",
       "      <td>21.632</td>\n",
       "      <td>1.77</td>\n",
       "      <td>Ahmadabad</td>\n",
       "      <td>India</td>\n",
       "      <td>23.31N</td>\n",
       "      <td>72.52E</td>\n",
       "    </tr>\n",
       "    <tr>\n",
       "      <th>2</th>\n",
       "      <td>1796-03-01</td>\n",
       "      <td>24.953000000000007</td>\n",
       "      <td>2.427</td>\n",
       "      <td>Ahmadabad</td>\n",
       "      <td>India</td>\n",
       "      <td>23.31N</td>\n",
       "      <td>72.52E</td>\n",
       "    </tr>\n",
       "    <tr>\n",
       "      <th>3</th>\n",
       "      <td>1796-04-01</td>\n",
       "      <td>30.297</td>\n",
       "      <td>1.827</td>\n",
       "      <td>Ahmadabad</td>\n",
       "      <td>India</td>\n",
       "      <td>23.31N</td>\n",
       "      <td>72.52E</td>\n",
       "    </tr>\n",
       "    <tr>\n",
       "      <th>4</th>\n",
       "      <td>1796-05-01</td>\n",
       "      <td>33.223000000000006</td>\n",
       "      <td>1.496</td>\n",
       "      <td>Ahmadabad</td>\n",
       "      <td>India</td>\n",
       "      <td>23.31N</td>\n",
       "      <td>72.52E</td>\n",
       "    </tr>\n",
       "  </tbody>\n",
       "</table>\n",
       "</div>"
      ],
      "text/plain": [
       "           dt  AverageTemperature AverageTemperatureUncertainty       City  \\\n",
       "0  1796-01-01              19.649                         2.286  Ahmadabad   \n",
       "1  1796-02-01              21.632                          1.77  Ahmadabad   \n",
       "2  1796-03-01  24.953000000000007                         2.427  Ahmadabad   \n",
       "3  1796-04-01              30.297                         1.827  Ahmadabad   \n",
       "4  1796-05-01  33.223000000000006                         1.496  Ahmadabad   \n",
       "\n",
       "  Country Latitude Longitude  \n",
       "0   India   23.31N    72.52E  \n",
       "1   India   23.31N    72.52E  \n",
       "2   India   23.31N    72.52E  \n",
       "3   India   23.31N    72.52E  \n",
       "4   India   23.31N    72.52E  "
      ]
     },
     "execution_count": 111,
     "metadata": {},
     "output_type": "execute_result"
    }
   ],
   "source": [
    "gltmc = pd.read_csv(data_dir + files[-3], dtype=str)\n",
    "gltmc.head()"
   ]
  },
  {
   "cell_type": "code",
   "execution_count": 112,
   "metadata": {
    "scrolled": true
   },
   "outputs": [
    {
     "data": {
      "text/plain": [
       "(36582, 7)"
      ]
     },
     "execution_count": 112,
     "metadata": {},
     "output_type": "execute_result"
    }
   ],
   "source": [
    "gltmc.shape"
   ]
  },
  {
   "cell_type": "code",
   "execution_count": 178,
   "metadata": {
    "scrolled": true
   },
   "outputs": [
    {
     "name": "stdout",
     "output_type": "stream",
     "text": [
      "Column description-\n"
     ]
    },
    {
     "data": {
      "text/plain": [
       "count    34627.000000\n",
       "mean        25.809309\n",
       "std          4.851196\n",
       "min         11.378000\n",
       "25%         22.935000\n",
       "50%         26.518000\n",
       "75%         29.254000\n",
       "max         36.477000\n",
       "Name: AverageTemperature, dtype: float64"
      ]
     },
     "execution_count": 178,
     "metadata": {},
     "output_type": "execute_result"
    }
   ],
   "source": [
    "print(\"Column description-\")\n",
    "gltmc.AverageTemperature.astype(float).abs().describe()"
   ]
  },
  {
   "cell_type": "code",
   "execution_count": 177,
   "metadata": {
    "scrolled": true
   },
   "outputs": [
    {
     "name": "stdout",
     "output_type": "stream",
     "text": [
      "1    0.129381\n",
      "2    0.636105\n",
      "3    0.181073\n",
      "Name: AverageTemperature, dtype: float64\n"
     ]
    }
   ],
   "source": [
    "# wtc.LandAverageTemperature.astype(str).str[0].unique()\n",
    "freq_avg = gltmc.AverageTemperature.str.replace(\"-\", \"\").str.lstrip(\"0\").str.lstrip(\".\").str.lstrip(\"0\").str[0].value_counts()\n",
    "freq_avg = freq_avg/gltmc.shape[0]\n",
    "print(freq_avg.sort_index())"
   ]
  },
  {
   "cell_type": "markdown",
   "metadata": {},
   "source": [
    "Here again we have only 3 variables. No sense running the analysis."
   ]
  },
  {
   "cell_type": "markdown",
   "metadata": {},
   "source": [
    "<a id='gltc'></a>\n",
    "## 5. GlobalLandTemperaturesByCity - India"
   ]
  },
  {
   "cell_type": "code",
   "execution_count": 12,
   "metadata": {},
   "outputs": [
    {
     "data": {
      "text/html": [
       "<div>\n",
       "<style>\n",
       "    .dataframe thead tr:only-child th {\n",
       "        text-align: right;\n",
       "    }\n",
       "\n",
       "    .dataframe thead th {\n",
       "        text-align: left;\n",
       "    }\n",
       "\n",
       "    .dataframe tbody tr th {\n",
       "        vertical-align: top;\n",
       "    }\n",
       "</style>\n",
       "<table border=\"1\" class=\"dataframe\">\n",
       "  <thead>\n",
       "    <tr style=\"text-align: right;\">\n",
       "      <th></th>\n",
       "      <th>dt</th>\n",
       "      <th>AverageTemperature</th>\n",
       "      <th>AverageTemperatureUncertainty</th>\n",
       "      <th>City</th>\n",
       "      <th>Country</th>\n",
       "      <th>Latitude</th>\n",
       "      <th>Longitude</th>\n",
       "    </tr>\n",
       "  </thead>\n",
       "  <tbody>\n",
       "    <tr>\n",
       "      <th>0</th>\n",
       "      <td>1816-03-01</td>\n",
       "      <td>19.934</td>\n",
       "      <td>2.258</td>\n",
       "      <td>Abohar</td>\n",
       "      <td>India</td>\n",
       "      <td>29.74N</td>\n",
       "      <td>73.85E</td>\n",
       "    </tr>\n",
       "    <tr>\n",
       "      <th>1</th>\n",
       "      <td>1816-04-01</td>\n",
       "      <td>26.641</td>\n",
       "      <td>3.398</td>\n",
       "      <td>Abohar</td>\n",
       "      <td>India</td>\n",
       "      <td>29.74N</td>\n",
       "      <td>73.85E</td>\n",
       "    </tr>\n",
       "    <tr>\n",
       "      <th>2</th>\n",
       "      <td>1816-05-01</td>\n",
       "      <td>32.535000000000004</td>\n",
       "      <td>2.408</td>\n",
       "      <td>Abohar</td>\n",
       "      <td>India</td>\n",
       "      <td>29.74N</td>\n",
       "      <td>73.85E</td>\n",
       "    </tr>\n",
       "    <tr>\n",
       "      <th>3</th>\n",
       "      <td>1816-06-01</td>\n",
       "      <td>33.254</td>\n",
       "      <td>2.123</td>\n",
       "      <td>Abohar</td>\n",
       "      <td>India</td>\n",
       "      <td>29.74N</td>\n",
       "      <td>73.85E</td>\n",
       "    </tr>\n",
       "    <tr>\n",
       "      <th>4</th>\n",
       "      <td>1816-07-01</td>\n",
       "      <td>31.105</td>\n",
       "      <td>1.848</td>\n",
       "      <td>Abohar</td>\n",
       "      <td>India</td>\n",
       "      <td>29.74N</td>\n",
       "      <td>73.85E</td>\n",
       "    </tr>\n",
       "  </tbody>\n",
       "</table>\n",
       "</div>"
      ],
      "text/plain": [
       "           dt  AverageTemperature AverageTemperatureUncertainty    City  \\\n",
       "0  1816-03-01              19.934                         2.258  Abohar   \n",
       "1  1816-04-01              26.641                         3.398  Abohar   \n",
       "2  1816-05-01  32.535000000000004                         2.408  Abohar   \n",
       "3  1816-06-01              33.254                         2.123  Abohar   \n",
       "4  1816-07-01              31.105                         1.848  Abohar   \n",
       "\n",
       "  Country Latitude Longitude  \n",
       "0   India   29.74N    73.85E  \n",
       "1   India   29.74N    73.85E  \n",
       "2   India   29.74N    73.85E  \n",
       "3   India   29.74N    73.85E  \n",
       "4   India   29.74N    73.85E  "
      ]
     },
     "execution_count": 12,
     "metadata": {},
     "output_type": "execute_result"
    }
   ],
   "source": [
    "gltc = pd.read_csv(data_dir + files[1], dtype=str)\n",
    "gltc.head()"
   ]
  },
  {
   "cell_type": "code",
   "execution_count": 117,
   "metadata": {},
   "outputs": [
    {
     "data": {
      "text/plain": [
       "(1014906, 7)"
      ]
     },
     "execution_count": 117,
     "metadata": {},
     "output_type": "execute_result"
    }
   ],
   "source": [
    "gltc.shape"
   ]
  },
  {
   "cell_type": "code",
   "execution_count": 179,
   "metadata": {},
   "outputs": [
    {
     "name": "stdout",
     "output_type": "stream",
     "text": [
      "Column description-\n"
     ]
    },
    {
     "data": {
      "text/plain": [
       "count    960548.000000\n",
       "mean         25.430123\n",
       "std           5.125845\n",
       "min           0.002000\n",
       "25%          22.484000\n",
       "50%          26.314000\n",
       "75%          29.037000\n",
       "max          37.522000\n",
       "Name: AverageTemperature, dtype: float64"
      ]
     },
     "execution_count": 179,
     "metadata": {},
     "output_type": "execute_result"
    }
   ],
   "source": [
    "print(\"Column description-\")\n",
    "gltc.AverageTemperature.astype(float).abs().describe()"
   ]
  },
  {
   "cell_type": "code",
   "execution_count": 13,
   "metadata": {},
   "outputs": [
    {
     "name": "stdout",
     "output_type": "stream",
     "text": [
      "First digit frequencies-\n",
      "\n",
      "1    0.149957\n",
      "2    0.630902\n",
      "3    0.162176\n",
      "4    0.000602\n",
      "5    0.000661\n",
      "6    0.000466\n",
      "7    0.000350\n",
      "8    0.000398\n",
      "9    0.000929\n",
      "Name: AverageTemperature, dtype: float64\n"
     ]
    },
    {
     "data": {
      "text/plain": [
       "[]"
      ]
     },
     "execution_count": 13,
     "metadata": {},
     "output_type": "execute_result"
    },
    {
     "data": {
      "image/png": "[encoded data removed]",
      "text/plain": [
       "<matplotlib.figure.Figure at 0x7f96de79a160>"
      ]
     },
     "metadata": {},
     "output_type": "display_data"
    }
   ],
   "source": [
    "fig, axs = plt.subplots(ncols=2, figsize=(10, 5))\n",
    "fig.subplots_adjust(hspace=0.5, left=0.07, right=0.93)\n",
    "\n",
    "# Frequency distribution plot\n",
    "ax = axs[0]\n",
    "ax.hist(gltc.AverageTemperature.astype(float).abs().dropna(), normed=1)\n",
    "ax.set_title(\"Frequency Distribution\")\n",
    "\n",
    "# First digit frequencies\n",
    "freq = gltc.AverageTemperature.str.replace(\"-\", \"\").str.lstrip(\"0\").str.lstrip(\".\").str.lstrip(\"0\").str[0].value_counts()\n",
    "freq = freq/gltc.shape[0]\n",
    "print(\"First digit frequencies-\\n\")\n",
    "print(freq.sort_index())\n",
    "\n",
    "# First frequency digit plot\n",
    "ax = axs[1]\n",
    "ax.bar(freq.index.astype(int), freq)\n",
    "ax.plot(range(1, 10), [0.301, 0.176, 0.125, 0.097, 0.079, 0.067, 0.058, 0.051, 0.046], c='red')\n",
    "ax.set_title(\"First digit frequencies\")\n",
    "plt.xticks(freq.index.astype(int))\n",
    "\n",
    "# Main title\n",
    "plt.suptitle(\"Variable: Global Land Temperature by City - India\")\n",
    "plt.plot()"
   ]
  },
  {
   "cell_type": "markdown",
   "metadata": {
    "collapsed": true
   },
   "source": [
    "This is same as [GlobalLandTemperaturesByState - India](#gltc). Left skewed distribution and small variance. Benford's law doesn't hold here as well."
   ]
  },
  {
   "cell_type": "markdown",
   "metadata": {},
   "source": [
    "<a id='conc'></a>\n",
    "## Conclusion\n",
    "\n",
    "So, turns out, this dataset didn't follow the Benford's law. Some of the obvious reasons are:\n",
    "\n",
    "- **Not enough variability in the data**: For Benford's law to be accurate, dataset has to cover large order of magnitudes. Here, most of the data was contained within a very small range. Due to the geography being India, temperature wont be ranging much.\n",
    "\n",
    "\n",
    "- **Pre-defined mins and maxs**: With our temperature measuring scale, the Earth's temperature can only be contained within a small range of values - -100 <sup>o</sup>C to 100 <sup>o</sup>C, will be the most generous range. Wikipedia tells me the lowest temp ever on earth has been -89 <sup>o</sup>C and highest being 54 <sup>o</sup>C. On top of this, I had my data confined to just India which itself will have a narrower range of temperatures.\n",
    "\n",
    "\n",
    "- **Uniform distributions**: Dataset has to be uniformly distributed or right skewed, along with large order of magnitudes. Here, none of the collections showed such a distribution.\n",
    "\n",
    "\n",
    "The source of this and other notebooks can be found in this Github repo - [Notebooks](https://github.com/TrigonaMinima/Notebooks).\n",
    "\n"
   ]
  }
 ],
 "metadata": {
  "kernelspec": {
   "display_name": "Python [default]",
   "language": "python",
   "name": "python3"
  },
  "language_info": {
   "codemirror_mode": {
    "name": "ipython",
    "version": 3
   },
   "file_extension": ".py",
   "mimetype": "text/x-python",
   "name": "python",
   "nbconvert_exporter": "python",
   "pygments_lexer": "ipython3",
   "version": "3.6.2"
  }
 },
 "nbformat": 4,
 "nbformat_minor": 2
}
