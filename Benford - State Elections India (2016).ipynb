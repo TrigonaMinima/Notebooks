{
 "cells": [
  {
   "cell_type": "markdown",
   "metadata": {
    "collapsed": true
   },
   "source": [
    "# Benford's Analysis - State Elections India\n",
    "\n",
    "This notebook was made to supplement one of my blogpost - [Benford's Law as a Fraud Detection technique](https://trigonaminima.github.io/data-analysis/fraud/2017/07/29/Benford's-Law-as-a-Fraud-Detection-technique/). Although, you'll be able to follow it along without reading the blogpost. You just need to know what Benford's law says. In this notebook, we'll see how to do a Benford's analysis and by doing so, we'll see if our dataset (historical temperatures of India) will follow the Benford's law.\n",
    "\n",
    "\n",
    "## Index\n",
    "\n",
    "1. [A basic exploration first](#exploration)\n",
    "2. [Benford's Analysis](#benford)\n",
    "\n",
    "\n",
    "## Dataset\n",
    "\n",
    "\n",
    "My source of data was the mailing list I follow - [Data is Plural by Jeremy Singer-Vine](https://tinyletter.com/data-is-plural)\n",
    "\n",
    "Five states in India, representing nearly 250 million residents — Punjab, Uttar Pradesh, Uttarakhand, Goa, and Manipur — have already held legislative assembly elections this year. India’s Election Commission publishes these results, but only as webpages. A couple of Hyderabad-based developers have scraped the website, and published CSVs of the [data on GitHub][1].\n",
    "\n",
    "[1]: https://github.com/Vizbi/state-elections\n"
   ]
  },
  {
   "cell_type": "code",
   "execution_count": 2,
   "metadata": {
    "collapsed": true
   },
   "outputs": [],
   "source": [
    "import pandas as pd\n",
    "import matplotlib.pyplot as plt\n",
    "\n",
    "%matplotlib inline"
   ]
  },
  {
   "cell_type": "code",
   "execution_count": 3,
   "metadata": {},
   "outputs": [
    {
     "data": {
      "text/html": [
       "<div>\n",
       "<style>\n",
       "    .dataframe thead tr:only-child th {\n",
       "        text-align: right;\n",
       "    }\n",
       "\n",
       "    .dataframe thead th {\n",
       "        text-align: left;\n",
       "    }\n",
       "\n",
       "    .dataframe tbody tr th {\n",
       "        vertical-align: top;\n",
       "    }\n",
       "</style>\n",
       "<table border=\"1\" class=\"dataframe\">\n",
       "  <thead>\n",
       "    <tr style=\"text-align: right;\">\n",
       "      <th></th>\n",
       "      <th>Candidate</th>\n",
       "      <th>Party</th>\n",
       "      <th>Votes</th>\n",
       "      <th>Constituency</th>\n",
       "      <th>State</th>\n",
       "    </tr>\n",
       "  </thead>\n",
       "  <tbody>\n",
       "    <tr>\n",
       "      <th>0</th>\n",
       "      <td>DR. PRAMOD PANDURANG SAWANT</td>\n",
       "      <td>Bharatiya Janata Party</td>\n",
       "      <td>10058</td>\n",
       "      <td>Sanquelim</td>\n",
       "      <td>Goa</td>\n",
       "    </tr>\n",
       "    <tr>\n",
       "      <th>1</th>\n",
       "      <td>DHARMESH SAGLANI</td>\n",
       "      <td>Indian National Congress</td>\n",
       "      <td>7927</td>\n",
       "      <td>Sanquelim</td>\n",
       "      <td>Goa</td>\n",
       "    </tr>\n",
       "    <tr>\n",
       "      <th>2</th>\n",
       "      <td>SURESH AMONKAR</td>\n",
       "      <td>Goa Suraksha Manch</td>\n",
       "      <td>3831</td>\n",
       "      <td>Sanquelim</td>\n",
       "      <td>Goa</td>\n",
       "    </tr>\n",
       "    <tr>\n",
       "      <th>3</th>\n",
       "      <td>PRATAP PRABHAKAR GAUNS</td>\n",
       "      <td>Nationalist Congress Party</td>\n",
       "      <td>857</td>\n",
       "      <td>Sanquelim</td>\n",
       "      <td>Goa</td>\n",
       "    </tr>\n",
       "    <tr>\n",
       "      <th>4</th>\n",
       "      <td>MILIND GAUNS</td>\n",
       "      <td>Aam Aadmi Party</td>\n",
       "      <td>408</td>\n",
       "      <td>Sanquelim</td>\n",
       "      <td>Goa</td>\n",
       "    </tr>\n",
       "  </tbody>\n",
       "</table>\n",
       "</div>"
      ],
      "text/plain": [
       "                     Candidate                       Party  Votes  \\\n",
       "0  DR. PRAMOD PANDURANG SAWANT      Bharatiya Janata Party  10058   \n",
       "1             DHARMESH SAGLANI    Indian National Congress   7927   \n",
       "2               SURESH AMONKAR          Goa Suraksha Manch   3831   \n",
       "3       PRATAP PRABHAKAR GAUNS  Nationalist Congress Party    857   \n",
       "4                 MILIND GAUNS             Aam Aadmi Party    408   \n",
       "\n",
       "  Constituency State  \n",
       "0    Sanquelim   Goa  \n",
       "1    Sanquelim   Goa  \n",
       "2    Sanquelim   Goa  \n",
       "3    Sanquelim   Goa  \n",
       "4    Sanquelim   Goa  "
      ]
     },
     "execution_count": 3,
     "metadata": {},
     "output_type": "execute_result"
    }
   ],
   "source": [
    "data_file = \"Data/Indian State Elections 2016/All_States_Constituencies_combined_2017.csv\"\n",
    "data = pd.read_csv(data_file)\n",
    "data.head()"
   ]
  },
  {
   "cell_type": "markdown",
   "metadata": {},
   "source": [
    "<a id=\"exploration\"></a>\n",
    "## A basic exploration first"
   ]
  },
  {
   "cell_type": "code",
   "execution_count": 5,
   "metadata": {},
   "outputs": [
    {
     "data": {
      "text/plain": [
       "(7849, 5)"
      ]
     },
     "execution_count": 5,
     "metadata": {},
     "output_type": "execute_result"
    }
   ],
   "source": [
    "data.shape"
   ]
  },
  {
   "cell_type": "markdown",
   "metadata": {},
   "source": [
    "That's okayish number of rows. Not that great.\n",
    "\n",
    "#### States"
   ]
  },
  {
   "cell_type": "code",
   "execution_count": 8,
   "metadata": {},
   "outputs": [
    {
     "data": {
      "text/plain": [
       "['Goa', 'Manipur', 'Punjab', 'Uttarakhand', 'Uttar Pradesh']"
      ]
     },
     "execution_count": 8,
     "metadata": {},
     "output_type": "execute_result"
    }
   ],
   "source": [
    "[i for i in data.State.unique()]"
   ]
  },
  {
   "cell_type": "markdown",
   "metadata": {},
   "source": [
    "So, as the data description says, there all 5 states in the dataset. Goa is in Western India, Manipur in Eastern, and rest are in Northern part of India.\n",
    "\n",
    "#### Political Parties"
   ]
  },
  {
   "cell_type": "code",
   "execution_count": 9,
   "metadata": {
    "scrolled": true
   },
   "outputs": [
    {
     "data": {
      "text/plain": [
       "array(['Bharatiya Janata Party', 'Indian National Congress',\n",
       "       'Goa Suraksha Manch', 'Nationalist Congress Party',\n",
       "       'Aam Aadmi Party', 'Independent', 'Goa Su-Raj Party',\n",
       "       'None of the Above', 'Maharashtrawadi Gomantak',\n",
       "       'Samajwadi Janata Party (ChandraShekhar)', 'Goa Forward Party',\n",
       "       'Communist Party of India', 'Shivsena',\n",
       "       'Niz Goenkar Revolution Front', 'Goa Vikas Party',\n",
       "       'United Goans Party', 'Goa Praja Party', 'Bahujan Mukti Party',\n",
       "       'Ambedkarite Party of India', 'Manipur National Democratic Front',\n",
       "       \"National People's Party\", 'Lok Jan Shakti Party',\n",
       "       'All India Trinamool Congress', 'Naga Peoples Front',\n",
       "       'North East India Development Party', 'Manipur People’s Party',\n",
       "       'Republican Party of India (A)',\n",
       "       'Peoples Resurgence and Justice Alliance', 'All India Forward Bloc',\n",
       "       'Communist Party of India  (Marxist)',\n",
       "       \"People's Democratic Alliance\",\n",
       "       \"Manipur Democratic Peoples's Front\", 'Lok Insaaf Party',\n",
       "       'Bahujan Samaj Party', 'Jammu & Kashmir National Panthers Party',\n",
       "       'Aapna Punjab Party', 'Democratic Party of India (Ambedkar)',\n",
       "       'Hindustan Shakti Sena', 'Sada Punjab Party', 'Shiromani Akali Dal',\n",
       "       'Revolutionary Marxist Party of India',\n",
       "       'Shiromani Akali Dal (Amritsar)(Simranjit Singh Mann)',\n",
       "       'Inqalab Vikas Dal', 'Democratic Party of India',\n",
       "       'Samaj Adhikar Kalyan Party', 'Revolutionary Socialist Party',\n",
       "       'Bahujan Samaj Party  (Ambedkar)', 'Shiromani Lok Dal Party',\n",
       "       'Democratic Swaraj Party', 'Bharatrashtra Democratic Party',\n",
       "       'Punjab Democratic Party', 'Jai Jawan Jai Kisan Party',\n",
       "       'Democratic Bharatiya Samaj Party',\n",
       "       'Rashtriya Krantikari Samajwadi Party', 'Indian Krantikari Lehar',\n",
       "       'Akhil Bharatiya Sangharsh Dal', 'Bharatiya Rashtravadi Paksha',\n",
       "       'National Adhikar Insaf Party', 'Indian Union Muslim League',\n",
       "       'Communist Party of India  (Marxist-Leninist)  (Liberation)',\n",
       "       'Bharatiya Republican Paksha', 'Ojaswi Party',\n",
       "       'Democratic Congress Party', 'Bahujan Sangharshh Dal',\n",
       "       'Lokpriya Samaj Party', 'Swabhiman Party', 'Hindustan Utthan Party',\n",
       "       'Krantikari Yuva Party', 'Hindusthan Nirman Dal',\n",
       "       'Communist Party of India (Marxist-Leninist) Red Star',\n",
       "       'Bharatiya Gaon Taj Dal', 'Punjab Labour Party',\n",
       "       'Bharat (Integrated) Rakshak Party', 'Uttarakhand Kranti Dal',\n",
       "       'UTTARAKHAND PARIVARTAN PARTY', 'Sainik Samaj Party',\n",
       "       'Samajwadi Party', 'Bharatiya Subhash Sena',\n",
       "       'Bharatiya Momin Front', 'Uttarakhand Kranti Dal (Democratic)',\n",
       "       'Rashtriya Jan Sahay Dal', 'Bharat Ki Lok Jimmedar Party',\n",
       "       'Rashtriya Lok Dal', 'Uttarakhand Raksha Morcha',\n",
       "       'Prajamandal Party', 'Rashtriya Adarsh Party',\n",
       "       'Indian Business Party', 'Sarv Vikas Party', 'Peace Party',\n",
       "       'Bhartiya Sarvodaya Party', 'Hamari Janmanch Party',\n",
       "       'AARAKSHAN VIRODHI PARTY', 'People’s Party', 'Bharat Kaumi Dal',\n",
       "       'Lok Shahi Party (Secular)', 'Rashtriya Uttarakhand Party',\n",
       "       'Nirbal Indian Shoshit Hamara Aam Dal', 'Rashtravyapi Janta Party',\n",
       "       'Apna Dal', 'Lok Dal', 'Pichhravarg Mahapanchayat Party',\n",
       "       'Hamari Apni Party', 'Mahan Dal', 'Kisan Majdoor Berojgar Sangh',\n",
       "       'Sarv Sambhaav Party', 'Swatantra Jantaraj Party',\n",
       "       'Jan Adhikar Party', 'Rashtriya Janshanti Party',\n",
       "       'Bhartiya Shakti Chetna Party', 'Sarvodaya Bharat Party',\n",
       "       'Moderate Party', 'Mahakranti Dal', 'Bhartiya  Sarvjan Party',\n",
       "       'Suheldev Bhartiya Samaj Party', 'Lok Gathbandhan Party',\n",
       "       'Ambedkar Samaj Party', 'All India Majlis-E-Ittehadul Muslimeen',\n",
       "       'Bhartiya Bhaichara Party', 'Prajashakti Party Samdarshi',\n",
       "       'Kalyankari Jantantrik Party', 'Pragatisheel Manav Samaj Party',\n",
       "       'Mahamukti Dal', 'Bhartiya Krishak Dal', 'Jan Adhikar Manch',\n",
       "       'Bahujan Maha Party', \"All India Peoples' Front (Radical)\",\n",
       "       'Rashtriya Samaj Paksha', 'Moulik Adhikar Party',\n",
       "       'Shoshit Samaj Dal', 'Rashtriya mahan Gantantra Party',\n",
       "       'VANCHITSAMAJ INSAAF PARTY', 'Rashtriya Janadhar  Party',\n",
       "       \"Poorvanchal People's Party\", 'Aadim Samaj Party',\n",
       "       'Bhartiya Republican Party (Insan)', 'Rashtravadi Pratap Sena',\n",
       "       'Manuvadi Party', 'Sabka Dal United', 'Indian Savarn Samaj Party',\n",
       "       'Param Digvijay Dal', 'Rashtriya Shahri Vikas Party',\n",
       "       'Jan Sevak Party', 'Apna Dal (Soneylal)',\n",
       "       'Bhartiya Rashtriya Jansatta', 'Gondvana Gantantra Party',\n",
       "       'Jan Jan Party', 'Rashtrawadi Praja Dal', 'Rashtriya Lokraj Party',\n",
       "       'Desh Shakti Party', 'Pragatisheel Samaj Party',\n",
       "       'Azad Mazdoor Kissan Party', 'Bharatiya Bahujan Parivartan  Party',\n",
       "       'Rashtriya Sarvajan Party', 'Proutist Bloc, India',\n",
       "       'Manav Hit Party', 'Rashtriya Parivartan Dal',\n",
       "       'Rashtriya Kranti Party', 'Sarva Samaj Kalyan Party',\n",
       "       'Rashtriya Sawarn Dal', 'Jay Hind Jay Bharat Party',\n",
       "       'National Apni Party', 'Rashtriya Kisan Majdoor Party',\n",
       "       'Bhartiya Janta Dal', 'Ittehad-E-Millait Council', 'Rajlok Party',\n",
       "       'Manavtawadi Samaj Party', 'Bharatiya Janvadi Party',\n",
       "       'Dr. Bhimrao Ambedkar Dal', 'Adarsh Samaj Party',\n",
       "       'Asankhya Samaj Party', 'Rashtriya Lok Samta Party',\n",
       "       'National Aman Party', 'Gareeb Kranti Party',\n",
       "       'RASHTRIYA VIKLANG PARTY', 'Jai Hind Samaj Party',\n",
       "       'Nagrik Ekta Party', 'Shoshit Samaj Party',\n",
       "       'Bhartiya Imaandar Party', 'Labour Party of India (V.V. Prasad)',\n",
       "       'Voters Party  International',\n",
       "       'SOCIALIST UNITY CENTRE OF INDIA (COMMUNIST)',\n",
       "       'Rashtriya Congress (Babu Jagjivanram)',\n",
       "       'Rashtriya Mazdoor Ekta Party', 'Rashtriya Congress(J) Party',\n",
       "       'Bhartiya Samajik Kranti Dal', 'Federal Democratic Party',\n",
       "       'Parivartan Samaj Party', 'Bharat Kranti Rakshak Party',\n",
       "       'National Lokmat Party', 'Sarvajan Kalyan Loktantrik Party',\n",
       "       'KIsan Shakti Jantantrik Party', 'Sampoorna Samaj Party',\n",
       "       'All India Jan Congress Party', 'Public Political Party',\n",
       "       'Jan Shakti Ekta Party', 'Jan Adhikar Party (Loktantrik)',\n",
       "       'Akhil Bharatiya Jan Sangh', 'National Youth Party',\n",
       "       'Manviya Bharat Party', 'Fauji Janta Party',\n",
       "       'Uttar Pradesh Republican Party', 'Rashtriya Shoshit Samaj Party',\n",
       "       'Bhagidari Kranti Dal', 'Akhil Bhartiya Vikas Congress Party',\n",
       "       'Parcham Party of India', 'Samaj Seva Party',\n",
       "       'Bharatiya Eklavya Party', 'Most Backward Classes Of India',\n",
       "       'Rastriya Aam Jan Seva Party', 'Rashtriya Vikalp Party',\n",
       "       'Rashtriya Lokshakti Party', 'Bhartiya Tarak Samaj Party',\n",
       "       'Rashtriya Jan  Adhikar Party', 'National Democratic Front',\n",
       "       'Akhil Bhartiya Swarajya Dal', 'Nav Jankranti Party',\n",
       "       'Rashtriya Bahujan Congress Party', 'Rashtriya Vikas Manch Party',\n",
       "       'Manavadhikar Janshakti Party', 'Bharti Samudaya Party',\n",
       "       'Bharat Kalyan Party', 'Manav Kalyan Munch', 'Nirmal India Party',\n",
       "       'Swarajya Party Of India', 'Jan Sangharsh Virat Party',\n",
       "       'Socialist Party (India)', 'Mahila Swabhiman Party',\n",
       "       'Rastriya Insaaf Party', 'Rashtriya Samanta Dal',\n",
       "       'Bahujan Awam Party', 'Naveen Samajwadi Dal',\n",
       "       'Bhartiya Vanchitsamaj Party', 'Rashtriya Janta Party',\n",
       "       'Mahila Sashaktikaran Party', 'Bhartiya Jan Sahyog Party',\n",
       "       'Kisan Kranti Dal', 'Rashtriya Samajwadi Party  (Secular)',\n",
       "       'Rashtriya Janhit Sangharsh Party', 'Samaj Sevak Party',\n",
       "       'Adarsh Vyawastha Party', 'Loktantrik Samajwadi Party',\n",
       "       'Deshbhakt Nirman Party', 'Janta Raj Party', 'Sarvjan Samta Party',\n",
       "       'Aam Janta Party Rashtriya', 'Rashtriya Janpriya Party',\n",
       "       'Bharatiya Karyasth Sena',\n",
       "       'Bharatiya Rashtriya Bahujan Samaj Vikas Party',\n",
       "       'Akhand Rashtrawadi Party', 'Bhartiya Naujawan Inklav Party',\n",
       "       'Bharatiya Samrat Subhash  Sena', 'Bharatiya Samaj Dal',\n",
       "       'Adhikar Party', 'Adarshwaadi Congress Party',\n",
       "       'Janvadi Party(Socialist)', 'Shoshit Sandesh Party',\n",
       "       'Yuva Vikas Party', 'Jan Shakti Dal', 'Poorna Swaraj Manch',\n",
       "       'Akhil Bharat Hindu Mahasabha', 'Manav Kranti Party',\n",
       "       'Rashtriya Ulama Council', 'Bharatiya Kisan Parivartan Party',\n",
       "       'Minorities Democratic Party', 'Vikas Party', 'Awami Vikas Party',\n",
       "       'United National Party', 'Republican Party of India',\n",
       "       'Rashtriya Apna Dal', 'Apni Zindgi Apna Dal', 'Saman Adhikar Party',\n",
       "       'United Democratic Front Secular', 'Awami Samta Party',\n",
       "       'Rashtriya Janadhikar Party', 'Vaicharik Kranti Party',\n",
       "       'Eklavya Samaj Party', 'Naitik Party',\n",
       "       'Kisan Majdoor Suraksha Party',\n",
       "       'All India Pichhada Jan Samaj Party', 'Abhay Samaj Party',\n",
       "       'Bharatiya Democratic  Socialist Alliance  Party',\n",
       "       'Pashchimi Uttar Pradesh Vikas Party', 'Apna Desh Party',\n",
       "       'Ambedkar Yug Party', 'Aajad Bharat Party (Democratic)',\n",
       "       'Justice Party', 'Samtawadi Republican Party',\n",
       "       'Purvanchal Janta Dal', 'Sanyukt Samajwadi Dal',\n",
       "       'Kisan Samaj Party(S)', 'Bhartiya Harit Party',\n",
       "       'Akhand Samaj Party', 'Jansatta Party',\n",
       "       'National Peace Party Secular', 'Satya Kranti Party',\n",
       "       'Bharatiya Jan Kranti Dal (Democratic)',\n",
       "       'New All India Congress Party', 'Rashtriya Mahila Janshakti Party',\n",
       "       'Hind Congress Party', 'Rashtriya Kisan Vikas Party',\n",
       "       'All India Minorities Front', 'Loktantrik Manavatavadi Party',\n",
       "       'Bundelkhand Kranti Dal', 'Hind Jan Congress',\n",
       "       'Bhartiya Insan Party', 'Aadhi Aabadi Party', 'Sarvshreshth Dal',\n",
       "       'Bharat Lok Sewak Party', 'Bharat Janta Dal (Tughlaq)',\n",
       "       'Bharat Mata Party', 'Apna Dal United Party',\n",
       "       'Bhartiya Janta Dal (Integrated)', 'Bharatiya Jan Sabha',\n",
       "       'Hum Sabki Party', 'Bhartiya Nav Vikas Party',\n",
       "       'National Democratic Peoples Front', 'Jan Seva Sahayak Party',\n",
       "       'Brij Kranti Dal', 'Rashtriya Garib Dal', 'Satya Shikhar Party',\n",
       "       'Hindustan Janmorcha', 'Samajwadi Samaj Party',\n",
       "       'Ambedkar National Congress', 'Gandhi Ekta Party',\n",
       "       'Rashtrawadi Janwadi Manch', 'Bhartiya Sangam Party',\n",
       "       'Aam Janata Party', 'Bharatiya Jan Berojgar Chhatra Dal',\n",
       "       'Al-Hind Party', 'Republican Sena',\n",
       "       'Rashtriya Jantantrik Bharat Vikas Party',\n",
       "       'Bahujan Sangharsh Party (Kanshiram)', 'Adarsh Lok Dal',\n",
       "       'Islam Party Hind', 'Rashtriya Samajwadi Jankranti Party',\n",
       "       'Samta Samjwadi Congress Party', 'Majdoor Kisan Union Party',\n",
       "       'Bhartiya Kisan Janshakti Party', 'Pragatisheel Lok Manch',\n",
       "       'Manavtawadi Kranti Dal', 'Samaj Parivartan Party',\n",
       "       'Sanyukt Vikas Party', 'Nirdhan Samaj Party of India',\n",
       "       'Bharat Nyay Dal', 'Swachh Swasth Swawlambijan Party',\n",
       "       'Pichhada Samanya Alpsankhyak Vyapari Kisan Party',\n",
       "       'Bhartiya Navodaya Party', 'Nasha Mukt Bharat Party',\n",
       "       'Lok Raksha Party', 'Hind Vikas Party',\n",
       "       'Bharatiya Kisan Sena Loktantrik', 'Rashtravadi Janata Party',\n",
       "       'Hindustan Krantikari Dal', 'Bahujan Party', 'Lok Ekta Party',\n",
       "       'Republican Party of India Ektavadi', 'Rashtriya Bandhutwa Party',\n",
       "       'Manvadhikar National Party', 'Bharatiya Swajivi Nagrik Party',\n",
       "       'Samajwadi Jan Parishad', 'Akhil Bharat Samagra Kranti Party',\n",
       "       'Jan Kalyan Party', 'Bahujan Samaj Vikas Party',\n",
       "       'Bharatiya Chhatrasangh Bharat', 'Suraksha Samaj Party'], dtype=object)"
      ]
     },
     "execution_count": 9,
     "metadata": {},
     "output_type": "execute_result"
    }
   ],
   "source": [
    "data.Party.unique()"
   ]
  },
  {
   "cell_type": "markdown",
   "metadata": {},
   "source": [
    "Holy shit! Don't expand that cell! That's a lot of political parties. I only knew a few of them. The major ones. Most of them must be alliances. And these are just 5 states. These are a lot of big states not in this list. I wonder how many political parties would there be in whole india.\n",
    "\n",
    "#### Votes"
   ]
  },
  {
   "cell_type": "code",
   "execution_count": 26,
   "metadata": {},
   "outputs": [
    {
     "data": {
      "text/plain": [
       "count      7849.000000\n",
       "mean      13981.559562\n",
       "std       26560.548606\n",
       "min          20.000000\n",
       "25%         465.000000\n",
       "50%        1023.000000\n",
       "75%        9491.000000\n",
       "max      262741.000000\n",
       "Name: Votes, dtype: float64"
      ]
     },
     "execution_count": 26,
     "metadata": {},
     "output_type": "execute_result"
    }
   ],
   "source": [
    "data.Votes.describe()"
   ]
  },
  {
   "cell_type": "markdown",
   "metadata": {},
   "source": [
    "The votes vary a lot. From 20 Votes (in state Goa. Feeling bad for the Candidate :/),they go up to 260K (in state Uttar Pradesh. Dayum dude! Nailed it)."
   ]
  },
  {
   "cell_type": "code",
   "execution_count": 47,
   "metadata": {},
   "outputs": [
    {
     "data": {
      "text/html": [
       "<div>\n",
       "<style>\n",
       "    .dataframe thead tr:only-child th {\n",
       "        text-align: right;\n",
       "    }\n",
       "\n",
       "    .dataframe thead th {\n",
       "        text-align: left;\n",
       "    }\n",
       "\n",
       "    .dataframe tbody tr th {\n",
       "        vertical-align: top;\n",
       "    }\n",
       "</style>\n",
       "<table border=\"1\" class=\"dataframe\">\n",
       "  <thead>\n",
       "    <tr style=\"text-align: right;\">\n",
       "      <th></th>\n",
       "      <th>Candidate</th>\n",
       "      <th>Party</th>\n",
       "      <th>Votes</th>\n",
       "      <th>Constituency</th>\n",
       "      <th>State</th>\n",
       "    </tr>\n",
       "  </thead>\n",
       "  <tbody>\n",
       "    <tr>\n",
       "      <th>227</th>\n",
       "      <td>PARSHURAM DODAMANI</td>\n",
       "      <td>Independent</td>\n",
       "      <td>20</td>\n",
       "      <td>Panaji</td>\n",
       "      <td>Goa</td>\n",
       "    </tr>\n",
       "    <tr>\n",
       "      <th>6259</th>\n",
       "      <td>SUNIL KUMAR SHARMA</td>\n",
       "      <td>Bharatiya Janata Party</td>\n",
       "      <td>262741</td>\n",
       "      <td>Sahibabad</td>\n",
       "      <td>Uttar Pradesh</td>\n",
       "    </tr>\n",
       "  </tbody>\n",
       "</table>\n",
       "</div>"
      ],
      "text/plain": [
       "               Candidate                   Party   Votes Constituency  \\\n",
       "227   PARSHURAM DODAMANI             Independent      20       Panaji   \n",
       "6259  SUNIL KUMAR SHARMA  Bharatiya Janata Party  262741    Sahibabad   \n",
       "\n",
       "              State  \n",
       "227             Goa  \n",
       "6259  Uttar Pradesh  "
      ]
     },
     "execution_count": 47,
     "metadata": {},
     "output_type": "execute_result"
    }
   ],
   "source": [
    "data[(data.Votes==data.Votes.max()) | (data.Votes==data.Votes.min())]"
   ]
  },
  {
   "cell_type": "code",
   "execution_count": 24,
   "metadata": {},
   "outputs": [
    {
     "data": {
      "image/png": "[encoded data removed]",
      "text/plain": [
       "<matplotlib.figure.Figure at 0x7f0dd10989e8>"
      ]
     },
     "metadata": {},
     "output_type": "display_data"
    }
   ],
   "source": [
    "plt.figure(figsize=(15, 7))\n",
    "plt.hist(data.Votes[data.Votes < 100000], bins=200)\n",
    "plt.title(\"Histogram - Votes < 100000\")\n",
    "plt.show()"
   ]
  },
  {
   "cell_type": "markdown",
   "metadata": {},
   "source": [
    "Pretty, right-skewed Histogram with a long tail, above kind of hints that Benford's law is being followed by the data."
   ]
  },
  {
   "cell_type": "markdown",
   "metadata": {},
   "source": [
    "<a id=\"benford\"></a>\n",
    "## 2. Benford's Analysis"
   ]
  },
  {
   "cell_type": "code",
   "execution_count": 4,
   "metadata": {},
   "outputs": [
    {
     "name": "stdout",
     "output_type": "stream",
     "text": [
      "First digit frequencies-\n",
      "\n",
      "1    26.933367\n",
      "2    13.606829\n",
      "3    11.504650\n",
      "4    10.370748\n",
      "5    10.141419\n",
      "6     8.752707\n",
      "7     6.956300\n",
      "8     6.179131\n",
      "9     5.554848\n",
      "Name: Votes, dtype: float64\n"
     ]
    },
    {
     "data": {
      "image/png": "[encoded data removed]",
      "text/plain": [
       "<matplotlib.figure.Figure at 0x7f0dd5dccf60>"
      ]
     },
     "metadata": {},
     "output_type": "display_data"
    }
   ],
   "source": [
    "# First digit frequencies\n",
    "freq = data.Votes.astype(str).str.replace(\"-\", \"\").str.lstrip(\"0\").str.lstrip(\".\").str.lstrip(\"0\").str[0].value_counts()\n",
    "freq = freq/data.shape[0]\n",
    "print(\"First digit frequencies-\\n\")\n",
    "print(freq.sort_index()*100)\n",
    "\n",
    "# First frequency digit plot\n",
    "plt.figure(figsize=(10,5))\n",
    "plt.bar(freq.index.astype(int), freq, label='Calculated Frequency')\n",
    "plt.plot(range(1, 10), [0.301, 0.176, 0.125, 0.097, 0.079, 0.067, 0.058, 0.051, 0.046], c='red', label='Theoretical Frequency')\n",
    "plt.legend(loc='upper right')\n",
    "plt.title(\"First digit frequencies\")\n",
    "plt.xticks(freq.index.astype(int))\n",
    "plt.show()"
   ]
  },
  {
   "cell_type": "markdown",
   "metadata": {
    "collapsed": true
   },
   "source": [
    "As expected, it does follow the trend. Althouh, there are still hiccups here and there (1st and 2nd digit), but it follows the trend pretty closely.\n",
    "\n",
    "It ought to follow the trend. Polulation data are found to follow the Benford's law, and our Votes data is *kind of* population data - Adult population who went to cast a vote on the election day. Good enough.\n"
   ]
  }
 ],
 "metadata": {
  "kernelspec": {
   "display_name": "Python [default]",
   "language": "python",
   "name": "python3"
  },
  "language_info": {
   "codemirror_mode": {
    "name": "ipython",
    "version": 3
   },
   "file_extension": ".py",
   "mimetype": "text/x-python",
   "name": "python",
   "nbconvert_exporter": "python",
   "pygments_lexer": "ipython3",
   "version": "3.6.2"
  }
 },
 "nbformat": 4,
 "nbformat_minor": 2
}
